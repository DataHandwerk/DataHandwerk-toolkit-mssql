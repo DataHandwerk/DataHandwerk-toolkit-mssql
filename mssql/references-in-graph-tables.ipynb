{
    "metadata": {
        "kernelspec": {
            "name": "SQL",
            "display_name": "SQL",
            "language": "sql"
        },
        "language_info": {
            "name": "sql",
            "version": ""
        }
    },
    "nbformat_minor": 2,
    "nbformat": 4,
    "cells": [
        {
            "cell_type": "markdown",
            "source": [
                "some test with refernces, stored in graph tables"
            ],
            "metadata": {
                "azdata_cell_guid": "b42a272d-e3f4-46fa-8447-6205e3a0e366"
            }
        },
        {
            "cell_type": "markdown",
            "source": [
                "simple match - direct neighbor\r\n",
                "\r\n",
                "check referenced objects from `[graph].[ReferencedObject] AS referenced`"
            ],
            "metadata": {
                "azdata_cell_guid": "ad138f54-120f-49af-a9a4-7a71c9860337"
            }
        },
        {
            "cell_type": "code",
            "source": [
                "Select\r\n",
                "    Object1.[RepoObject_fullname] As ReferencingObjectName\r\n",
                "  , Object1.[RepoObject_type]\r\n",
                "  , Object2.[RepoObject_fullname] As ReferencedObjectName\r\n",
                "  , Object2.[RepoObject_type]\r\n",
                "  , Object1.[RepoObject_guid]\r\n",
                "  , Object2.[RepoObject_guid]\r\n",
                "From\r\n",
                "    [graph].[RepoObject] As Object1\r\n",
                "  , [graph].[ReferencedObject] As referenced\r\n",
                "  , [graph].[RepoObject] As Object2\r\n",
                "Where MATCH(\r\n",
                "    Object1-(referenced)->Object2)\r\n",
                "    And Object1.[RepoObject_type] In ( 'u', 'v' )\r\n",
                "    And Object2.[RepoObject_type] In ( 'u', 'v' )\r\n",
                "Order By\r\n",
                "    Object1.[RepoObject_fullname]\r\n",
                "  , Object2.[RepoObject_fullname]"
            ],
            "metadata": {
                "azdata_cell_guid": "d823d9a6-9001-40d3-9d63-0031404b577e",
                "tags": []
            },
            "outputs": [
                {
                    "output_type": "display_data",
                    "data": {
                        "text/html": "(248 rows affected)"
                    },
                    "metadata": {}
                },
                {
                    "output_type": "display_data",
                    "data": {
                        "text/html": "Total execution time: 00:00:00.085"
                    },
                    "metadata": {}
                },
                {
                    "output_type": "execute_result",
                    "execution_count": 9,
                    "data": {
                        "application/vnd.dataresource+json": {
                            "schema": {
                                "fields": [
                                    {
                                        "name": "ReferencingObjectName"
                                    },
                                    {
                                        "name": "RepoObject_type"
                                    },
                                    {
                                        "name": "ReferencedObjectName"
                                    },
                                    {
                                        "name": "RepoObject_type"
                                    },
                                    {
                                        "name": "RepoObject_guid"
                                    },
                                    {
                                        "name": "RepoObject_guid"
                                    }
                                ]
                            },
                            "data": [
                                {
                                    "0": "[graph].[ProcedureInstance]",
                                    "1": "U ",
                                    "2": "[graph].[ProcedureInstance_S]",
                                    "3": "V ",
                                    "4": "2ac1e60f-ed66-eb11-84dd-a81e8446d5b0",
                                    "5": "32c1e60f-ed66-eb11-84dd-a81e8446d5b0"
                                },
                                {
                                    "0": "[graph].[ProcedureInstance_S]",
                                    "1": "V ",
                                    "2": "[repo].[ProcedureInstance]",
                                    "3": "U ",
                                    "4": "32c1e60f-ed66-eb11-84dd-a81e8446d5b0",
                                    "5": "7534cb25-1e66-eb11-84dd-a81e8446d5b0"
                                },
                                {
                                    "0": "[graph].[ProcedureInstance_S]",
                                    "1": "V ",
                                    "2": "[repo].[RepoObject]",
                                    "3": "U ",
                                    "4": "32c1e60f-ed66-eb11-84dd-a81e8446d5b0",
                                    "5": "eb8f291c-9d61-eb11-84dc-a81e8446d5b0"
                                },
                                {
                                    "0": "[graph].[RepoObject]",
                                    "1": "U ",
                                    "2": "[graph].[RepoObject_S]",
                                    "3": "V ",
                                    "4": "88efc212-b764-eb11-84dd-a81e8446d5b0",
                                    "5": "a89fcdb3-3265-eb11-84dd-a81e8446d5b0"
                                },
                                {
                                    "0": "[graph].[RepoObject_S]",
                                    "1": "V ",
                                    "2": "[repo].[RepoObject]",
                                    "3": "U ",
                                    "4": "a89fcdb3-3265-eb11-84dd-a81e8446d5b0",
                                    "5": "eb8f291c-9d61-eb11-84dc-a81e8446d5b0"
                                },
                                {
                                    "0": "[graph].[RepoObjectColumn]",
                                    "1": "U ",
                                    "2": "[graph].[RepoObjectColumn_S]",
                                    "3": "V ",
                                    "4": "89efc212-b764-eb11-84dd-a81e8446d5b0",
                                    "5": "a99fcdb3-3265-eb11-84dd-a81e8446d5b0"
                                },
                                {
                                    "0": "[graph].[RepoObjectColumn_S]",
                                    "1": "V ",
                                    "2": "[repo].[RepoObjectColumn_gross]",
                                    "3": "V ",
                                    "4": "a99fcdb3-3265-eb11-84dd-a81e8446d5b0",
                                    "5": "6990291c-9d61-eb11-84dc-a81e8446d5b0"
                                },
                                {
                                    "0": "[repo].[aaa_test_sql_table_column]",
                                    "1": "V ",
                                    "2": "[repo].[RepoObjectColumn]",
                                    "3": "U ",
                                    "4": "b990291c-9d61-eb11-84dc-a81e8446d5b0",
                                    "5": "3e90291c-9d61-eb11-84dc-a81e8446d5b0"
                                },
                                {
                                    "0": "[repo].[check_IndexColumn_virtual_referenced_setpoint]",
                                    "1": "V ",
                                    "2": "[repo].[IndexColumn_virtual_referenced_setpoint]",
                                    "3": "V ",
                                    "4": "8990291c-9d61-eb11-84dc-a81e8446d5b0",
                                    "5": "7d90291c-9d61-eb11-84dc-a81e8446d5b0"
                                },
                                {
                                    "0": "[repo].[check_IndexColumn_virtual_referenced_setpoint]",
                                    "1": "V ",
                                    "2": "[repo].[RepoObject]",
                                    "3": "U ",
                                    "4": "8990291c-9d61-eb11-84dc-a81e8446d5b0",
                                    "5": "eb8f291c-9d61-eb11-84dc-a81e8446d5b0"
                                },
                                {
                                    "0": "[repo].[check_IndexColumn_virtual_referenced_setpoint]",
                                    "1": "V ",
                                    "2": "[repo].[RepoObjectColumn]",
                                    "3": "U ",
                                    "4": "8990291c-9d61-eb11-84dc-a81e8446d5b0",
                                    "5": "3e90291c-9d61-eb11-84dc-a81e8446d5b0"
                                },
                                {
                                    "0": "[repo].[ExecutionLog_gross]",
                                    "1": "V ",
                                    "2": "[repo].[ExecutionLog]",
                                    "3": "U ",
                                    "4": "bb90291c-9d61-eb11-84dc-a81e8446d5b0",
                                    "5": "1c90291c-9d61-eb11-84dc-a81e8446d5b0"
                                },
                                {
                                    "0": "[repo].[ExecutionLog_parent]",
                                    "1": "V ",
                                    "2": "[repo].[ExecutionLog]",
                                    "3": "U ",
                                    "4": "bd90291c-9d61-eb11-84dc-a81e8446d5b0",
                                    "5": "1c90291c-9d61-eb11-84dc-a81e8446d5b0"
                                },
                                {
                                    "0": "[repo].[ExecutionLog_plantUML_Sequence_start_stop]",
                                    "1": "V ",
                                    "2": "[repo].[ExecutionLog]",
                                    "3": "U ",
                                    "4": "bf90291c-9d61-eb11-84dc-a81e8446d5b0",
                                    "5": "1c90291c-9d61-eb11-84dc-a81e8446d5b0"
                                },
                                {
                                    "0": "[repo].[ExecutionLog_plantUML_Sequence_start_stop]",
                                    "1": "V ",
                                    "2": "[repo].[ExecutionLog_parent]",
                                    "3": "V ",
                                    "4": "bf90291c-9d61-eb11-84dc-a81e8446d5b0",
                                    "5": "bd90291c-9d61-eb11-84dc-a81e8446d5b0"
                                },
                                {
                                    "0": "[repo].[ExtendedProperty_Repo2Sys_level1]",
                                    "1": "V ",
                                    "2": "[repo].[RepoObject]",
                                    "3": "U ",
                                    "4": "55b33a4a-426d-eb11-84e2-a81e8446d5b0",
                                    "5": "eb8f291c-9d61-eb11-84dc-a81e8446d5b0"
                                },
                                {
                                    "0": "[repo].[ExtendedProperty_Repo2Sys_level1]",
                                    "1": "V ",
                                    "2": "[repo].[RepoObjectProperty]",
                                    "3": "U ",
                                    "4": "55b33a4a-426d-eb11-84e2-a81e8446d5b0",
                                    "5": "1090291c-9d61-eb11-84dc-a81e8446d5b0"
                                },
                                {
                                    "0": "[repo].[ExtendedProperty_Repo2Sys_level1]",
                                    "1": "V ",
                                    "2": "[repo].[type_level1type_level2type]",
                                    "3": "V ",
                                    "4": "55b33a4a-426d-eb11-84e2-a81e8446d5b0",
                                    "5": "db8f291c-9d61-eb11-84dc-a81e8446d5b0"
                                },
                                {
                                    "0": "[repo].[ExtendedProperty_Repo2Sys_level2_RepoObject]",
                                    "1": "V ",
                                    "2": "[repo].[RepoObject]",
                                    "3": "U ",
                                    "4": "56b33a4a-426d-eb11-84e2-a81e8446d5b0",
                                    "5": "eb8f291c-9d61-eb11-84dc-a81e8446d5b0"
                                },
                                {
                                    "0": "[repo].[ExtendedProperty_Repo2Sys_level2_RepoObject]",
                                    "1": "V ",
                                    "2": "[repo].[RepoObjectProperty]",
                                    "3": "U ",
                                    "4": "56b33a4a-426d-eb11-84e2-a81e8446d5b0",
                                    "5": "1090291c-9d61-eb11-84dc-a81e8446d5b0"
                                },
                                {
                                    "0": "[repo].[ExtendedProperty_Repo2Sys_level2_RepoObject]",
                                    "1": "V ",
                                    "2": "[repo].[type_level1type_level2type]",
                                    "3": "V ",
                                    "4": "56b33a4a-426d-eb11-84e2-a81e8446d5b0",
                                    "5": "db8f291c-9d61-eb11-84dc-a81e8446d5b0"
                                },
                                {
                                    "0": "[repo].[ExtendedProperty_Repo2Sys_level2_RepoObjectColumn]",
                                    "1": "V ",
                                    "2": "[repo].[RepoObject]",
                                    "3": "U ",
                                    "4": "57b33a4a-426d-eb11-84e2-a81e8446d5b0",
                                    "5": "eb8f291c-9d61-eb11-84dc-a81e8446d5b0"
                                },
                                {
                                    "0": "[repo].[ExtendedProperty_Repo2Sys_level2_RepoObjectColumn]",
                                    "1": "V ",
                                    "2": "[repo].[RepoObjectColumn]",
                                    "3": "U ",
                                    "4": "57b33a4a-426d-eb11-84e2-a81e8446d5b0",
                                    "5": "3e90291c-9d61-eb11-84dc-a81e8446d5b0"
                                },
                                {
                                    "0": "[repo].[ExtendedProperty_Repo2Sys_level2_RepoObjectColumn]",
                                    "1": "V ",
                                    "2": "[repo].[RepoObjectColumnProperty]",
                                    "3": "U ",
                                    "4": "57b33a4a-426d-eb11-84e2-a81e8446d5b0",
                                    "5": "1690291c-9d61-eb11-84dc-a81e8446d5b0"
                                },
                                {
                                    "0": "[repo].[ExtendedProperty_Repo2Sys_level2_RepoObjectColumn]",
                                    "1": "V ",
                                    "2": "[repo].[type_level1type_level2type]",
                                    "3": "V ",
                                    "4": "57b33a4a-426d-eb11-84e2-a81e8446d5b0",
                                    "5": "db8f291c-9d61-eb11-84dc-a81e8446d5b0"
                                },
                                {
                                    "0": "[repo].[ExtendedProperty_Repo2Sys_level2_Union]",
                                    "1": "V ",
                                    "2": "[repo].[ExtendedProperty_Repo2Sys_level2_RepoObject]",
                                    "3": "V ",
                                    "4": "58b33a4a-426d-eb11-84e2-a81e8446d5b0",
                                    "5": "56b33a4a-426d-eb11-84e2-a81e8446d5b0"
                                },
                                {
                                    "0": "[repo].[ExtendedProperty_Repo2Sys_level2_Union]",
                                    "1": "V ",
                                    "2": "[repo].[ExtendedProperty_Repo2Sys_level2_RepoObjectColumn]",
                                    "3": "V ",
                                    "4": "58b33a4a-426d-eb11-84e2-a81e8446d5b0",
                                    "5": "57b33a4a-426d-eb11-84e2-a81e8446d5b0"
                                },
                                {
                                    "0": "[repo].[ForeignKey_Index_guid]",
                                    "1": "V ",
                                    "2": "[repo].[ForeignKey_IndexPattern]",
                                    "3": "V ",
                                    "4": "7f170058-c073-eb11-84e3-a81e8446d5b0",
                                    "5": "7e170058-c073-eb11-84e3-a81e8446d5b0"
                                },
                                {
                                    "0": "[repo].[ForeignKey_Index_guid]",
                                    "1": "V ",
                                    "2": "[repo].[Index_gross]",
                                    "3": "V ",
                                    "4": "7f170058-c073-eb11-84e3-a81e8446d5b0",
                                    "5": "8790291c-9d61-eb11-84dc-a81e8446d5b0"
                                },
                                {
                                    "0": "[repo].[ForeignKey_Index_guid_union]",
                                    "1": "V ",
                                    "2": "[repo].[ForeignKey_Index_guid]",
                                    "3": "V ",
                                    "4": "81170058-c073-eb11-84e3-a81e8446d5b0",
                                    "5": "7f170058-c073-eb11-84e3-a81e8446d5b0"
                                },
                                {
                                    "0": "[repo].[ForeignKey_Index_guid_union]",
                                    "1": "V ",
                                    "2": "[repo].[ForeignKey_virtual_Index_guid]",
                                    "3": "V ",
                                    "4": "81170058-c073-eb11-84e3-a81e8446d5b0",
                                    "5": "80170058-c073-eb11-84e3-a81e8446d5b0"
                                },
                                {
                                    "0": "[repo].[ForeignKey_IndexPattern]",
                                    "1": "V ",
                                    "2": "[repo_sys].[ForeignKeyColumn]",
                                    "3": "V ",
                                    "4": "7e170058-c073-eb11-84e3-a81e8446d5b0",
                                    "5": "0865ae67-bc72-eb11-84e3-a81e8446d5b0"
                                },
                                {
                                    "0": "[repo].[ForeignKey_virtual_Index_guid]",
                                    "1": "V ",
                                    "2": "[repo].[ForeignKey_virtual]",
                                    "3": "U ",
                                    "4": "80170058-c073-eb11-84e3-a81e8446d5b0",
                                    "5": "a456741b-6373-eb11-84e3-a81e8446d5b0"
                                },
                                {
                                    "0": "[repo].[ForeignKey_virtual_Index_guid]",
                                    "1": "V ",
                                    "2": "[repo].[Index_gross]",
                                    "3": "V ",
                                    "4": "80170058-c073-eb11-84e3-a81e8446d5b0",
                                    "5": "8790291c-9d61-eb11-84dc-a81e8446d5b0"
                                },
                                {
                                    "0": "[repo].[GeneratorUsp_filter_persistence]",
                                    "1": "V ",
                                    "2": "[repo].[GeneratorUsp]",
                                    "3": "U ",
                                    "4": "df8f291c-9d61-eb11-84dc-a81e8446d5b0",
                                    "5": "3890291c-9d61-eb11-84dc-a81e8446d5b0"
                                },
                                {
                                    "0": "[repo].[GeneratorUsp_ParameterList]",
                                    "1": "V ",
                                    "2": "[repo].[GeneratorUspParameter]",
                                    "3": "U ",
                                    "4": "e18f291c-9d61-eb11-84dc-a81e8446d5b0",
                                    "5": "4e90291c-9d61-eb11-84dc-a81e8446d5b0"
                                },
                                {
                                    "0": "[repo].[GeneratorUsp_SqlUsp]",
                                    "1": "V ",
                                    "2": "[repo].[GeneratorUsp]",
                                    "3": "U ",
                                    "4": "4990291c-9d61-eb11-84dc-a81e8446d5b0",
                                    "5": "3890291c-9d61-eb11-84dc-a81e8446d5b0"
                                },
                                {
                                    "0": "[repo].[GeneratorUsp_SqlUsp]",
                                    "1": "V ",
                                    "2": "[repo].[GeneratorUsp_ParameterList]",
                                    "3": "V ",
                                    "4": "4990291c-9d61-eb11-84dc-a81e8446d5b0",
                                    "5": "e18f291c-9d61-eb11-84dc-a81e8446d5b0"
                                },
                                {
                                    "0": "[repo].[GeneratorUsp_SqlUsp]",
                                    "1": "V ",
                                    "2": "[repo].[GeneratorUsp_StepList]",
                                    "3": "V ",
                                    "4": "4990291c-9d61-eb11-84dc-a81e8446d5b0",
                                    "5": "4790291c-9d61-eb11-84dc-a81e8446d5b0"
                                },
                                {
                                    "0": "[repo].[GeneratorUsp_StepList]",
                                    "1": "V ",
                                    "2": "[repo].[GeneratorUspStep_Sql]",
                                    "3": "V ",
                                    "4": "4790291c-9d61-eb11-84dc-a81e8446d5b0",
                                    "5": "4590291c-9d61-eb11-84dc-a81e8446d5b0"
                                },
                                {
                                    "0": "[repo].[GeneratorUspStep_Persistence]",
                                    "1": "V ",
                                    "2": "[repo].[GeneratorUsp]",
                                    "3": "U ",
                                    "4": "8190291c-9d61-eb11-84dc-a81e8446d5b0",
                                    "5": "3890291c-9d61-eb11-84dc-a81e8446d5b0"
                                },
                                {
                                    "0": "[repo].[GeneratorUspStep_Persistence]",
                                    "1": "V ",
                                    "2": "[repo].[Index_ColumList]",
                                    "3": "V ",
                                    "4": "8190291c-9d61-eb11-84dc-a81e8446d5b0",
                                    "5": "6890291c-9d61-eb11-84dc-a81e8446d5b0"
                                },
                                {
                                    "0": "[repo].[GeneratorUspStep_Persistence]",
                                    "1": "V ",
                                    "2": "[repo].[RepoObject_gross]",
                                    "3": "V ",
                                    "4": "8190291c-9d61-eb11-84dc-a81e8446d5b0",
                                    "5": "7790291c-9d61-eb11-84dc-a81e8446d5b0"
                                },
                                {
                                    "0": "[repo].[GeneratorUspStep_Persistence_IsInactive_setpoint]",
                                    "1": "V ",
                                    "2": "[repo].[GeneratorUsp]",
                                    "3": "U ",
                                    "4": "7f90291c-9d61-eb11-84dc-a81e8446d5b0",
                                    "5": "3890291c-9d61-eb11-84dc-a81e8446d5b0"
                                },
                                {
                                    "0": "[repo].[GeneratorUspStep_Persistence_IsInactive_setpoint]",
                                    "1": "V ",
                                    "2": "[repo].[RepoObject_gross]",
                                    "3": "V ",
                                    "4": "7f90291c-9d61-eb11-84dc-a81e8446d5b0",
                                    "5": "7790291c-9d61-eb11-84dc-a81e8446d5b0"
                                },
                                {
                                    "0": "[repo].[GeneratorUspStep_Sql]",
                                    "1": "V ",
                                    "2": "[repo].[GeneratorUsp]",
                                    "3": "U ",
                                    "4": "4590291c-9d61-eb11-84dc-a81e8446d5b0",
                                    "5": "3890291c-9d61-eb11-84dc-a81e8446d5b0"
                                },
                                {
                                    "0": "[repo].[GeneratorUspStep_Sql]",
                                    "1": "V ",
                                    "2": "[repo].[GeneratorUspStep]",
                                    "3": "U ",
                                    "4": "4590291c-9d61-eb11-84dc-a81e8446d5b0",
                                    "5": "5690291c-9d61-eb11-84dc-a81e8446d5b0"
                                },
                                {
                                    "0": "[repo].[Index_ColumList]",
                                    "1": "V ",
                                    "2": "[repo].[IndexColumn_union]",
                                    "3": "V ",
                                    "4": "6890291c-9d61-eb11-84dc-a81e8446d5b0",
                                    "5": "6790291c-9d61-eb11-84dc-a81e8446d5b0"
                                },
                                {
                                    "0": "[repo].[Index_gross]",
                                    "1": "V ",
                                    "2": "[repo].[Index_ColumList]",
                                    "3": "V ",
                                    "4": "8790291c-9d61-eb11-84dc-a81e8446d5b0",
                                    "5": "6890291c-9d61-eb11-84dc-a81e8446d5b0"
                                },
                                {
                                    "0": "[repo].[Index_gross]",
                                    "1": "V ",
                                    "2": "[repo].[Index_Settings]",
                                    "3": "U ",
                                    "4": "8790291c-9d61-eb11-84dc-a81e8446d5b0",
                                    "5": "2090291c-9d61-eb11-84dc-a81e8446d5b0"
                                },
                                {
                                    "0": "[repo].[Index_gross]",
                                    "1": "V ",
                                    "2": "[repo].[Index_union]",
                                    "3": "V ",
                                    "4": "8790291c-9d61-eb11-84dc-a81e8446d5b0",
                                    "5": "2590291c-9d61-eb11-84dc-a81e8446d5b0"
                                },
                                {
                                    "0": "[repo].[Index_gross]",
                                    "1": "V ",
                                    "2": "[repo].[RepoObject_gross]",
                                    "3": "V ",
                                    "4": "8790291c-9d61-eb11-84dc-a81e8446d5b0",
                                    "5": "7790291c-9d61-eb11-84dc-a81e8446d5b0"
                                },
                                {
                                    "0": "[repo].[Index_IndexPattern]",
                                    "1": "V ",
                                    "2": "[repo].[IndexColumn_union]",
                                    "3": "V ",
                                    "4": "6a90291c-9d61-eb11-84dc-a81e8446d5b0",
                                    "5": "6790291c-9d61-eb11-84dc-a81e8446d5b0"
                                },
                                {
                                    "0": "[repo].[Index_referencing_IndexPatternColumnGuid]",
                                    "1": "V ",
                                    "2": "[repo].[IndexColumn_ReferencedReferencing_HasFullColumnsInReferencing_T]",
                                    "3": "U ",
                                    "4": "5ece8eb8-5f62-eb11-84dc-a81e8446d5b0",
                                    "5": "ab7ed154-6b62-eb11-84dc-a81e8446d5b0"
                                },
                                {
                                    "0": "[repo].[Index_SqlConstraint_PkUq]",
                                    "1": "V ",
                                    "2": "[repo].[Index_ColumList]",
                                    "3": "V ",
                                    "4": "7190291c-9d61-eb11-84dc-a81e8446d5b0",
                                    "5": "6890291c-9d61-eb11-84dc-a81e8446d5b0"
                                },
                                {
                                    "0": "[repo].[Index_SqlConstraint_PkUq]",
                                    "1": "V ",
                                    "2": "[repo].[Index_Settings]",
                                    "3": "U ",
                                    "4": "7190291c-9d61-eb11-84dc-a81e8446d5b0",
                                    "5": "2090291c-9d61-eb11-84dc-a81e8446d5b0"
                                },
                                {
                                    "0": "[repo].[Index_SqlConstraint_PkUq]",
                                    "1": "V ",
                                    "2": "[repo].[Index_union]",
                                    "3": "V ",
                                    "4": "7190291c-9d61-eb11-84dc-a81e8446d5b0",
                                    "5": "2590291c-9d61-eb11-84dc-a81e8446d5b0"
                                },
                                {
                                    "0": "[repo].[Index_union]",
                                    "1": "V ",
                                    "2": "[repo].[Index_unique_IndexPatternColumnGuid]",
                                    "3": "V ",
                                    "4": "2590291c-9d61-eb11-84dc-a81e8446d5b0",
                                    "5": "5fce8eb8-5f62-eb11-84dc-a81e8446d5b0"
                                },
                                {
                                    "0": "[repo].[Index_union]",
                                    "1": "V ",
                                    "2": "[repo].[Index_virtual]",
                                    "3": "U ",
                                    "4": "2590291c-9d61-eb11-84dc-a81e8446d5b0",
                                    "5": "3490291c-9d61-eb11-84dc-a81e8446d5b0"
                                },
                                {
                                    "0": "[repo].[Index_union]",
                                    "1": "V ",
                                    "2": "[repo].[Index_virtual_IndexPatternColumnGuid]",
                                    "3": "V ",
                                    "4": "2590291c-9d61-eb11-84dc-a81e8446d5b0",
                                    "5": "60ce8eb8-5f62-eb11-84dc-a81e8446d5b0"
                                },
                                {
                                    "0": "[repo].[Index_union]",
                                    "1": "V ",
                                    "2": "[repo_sys].[Index_unique]",
                                    "3": "V ",
                                    "4": "2590291c-9d61-eb11-84dc-a81e8446d5b0",
                                    "5": "0890291c-9d61-eb11-84dc-a81e8446d5b0"
                                },
                                {
                                    "0": "[repo].[Index_unique_IndexPatternColumnGuid]",
                                    "1": "V ",
                                    "2": "[repo_sys].[IndexColumn_unique]",
                                    "3": "V ",
                                    "4": "5fce8eb8-5f62-eb11-84dc-a81e8446d5b0",
                                    "5": "6090291c-9d61-eb11-84dc-a81e8446d5b0"
                                },
                                {
                                    "0": "[repo].[Index_virtual_IndexPatternColumnGuid]",
                                    "1": "V ",
                                    "2": "[repo].[Index_virtual]",
                                    "3": "U ",
                                    "4": "60ce8eb8-5f62-eb11-84dc-a81e8446d5b0",
                                    "5": "3490291c-9d61-eb11-84dc-a81e8446d5b0"
                                },
                                {
                                    "0": "[repo].[Index_virtual_IndexPatternColumnGuid]",
                                    "1": "V ",
                                    "2": "[repo].[IndexColumn_virtual]",
                                    "3": "U ",
                                    "4": "60ce8eb8-5f62-eb11-84dc-a81e8446d5b0",
                                    "5": "4a90291c-9d61-eb11-84dc-a81e8446d5b0"
                                },
                                {
                                    "0": "[repo].[Index_virtual_SysObject]",
                                    "1": "V ",
                                    "2": "[repo].[Index_Settings]",
                                    "3": "U ",
                                    "4": "0790291c-9d61-eb11-84dc-a81e8446d5b0",
                                    "5": "2090291c-9d61-eb11-84dc-a81e8446d5b0"
                                },
                                {
                                    "0": "[repo].[Index_virtual_SysObject]",
                                    "1": "V ",
                                    "2": "[repo].[Index_virtual]",
                                    "3": "U ",
                                    "4": "0790291c-9d61-eb11-84dc-a81e8446d5b0",
                                    "5": "3490291c-9d61-eb11-84dc-a81e8446d5b0"
                                },
                                {
                                    "0": "[repo].[Index_virtual_SysObject]",
                                    "1": "V ",
                                    "2": "[repo].[RepoObject]",
                                    "3": "U ",
                                    "4": "0790291c-9d61-eb11-84dc-a81e8446d5b0",
                                    "5": "eb8f291c-9d61-eb11-84dc-a81e8446d5b0"
                                },
                                {
                                    "0": "[repo].[IndexColumn_ReferencedReferencing_HasFullColumnsInReferencing]",
                                    "1": "V ",
                                    "2": "[repo].[IndexColumn_union]",
                                    "3": "V ",
                                    "4": "7b90291c-9d61-eb11-84dc-a81e8446d5b0",
                                    "5": "6790291c-9d61-eb11-84dc-a81e8446d5b0"
                                },
                                {
                                    "0": "[repo].[IndexColumn_ReferencedReferencing_HasFullColumnsInReferencing]",
                                    "1": "V ",
                                    "2": "[repo].[RepoObjectColumn]",
                                    "3": "U ",
                                    "4": "7b90291c-9d61-eb11-84dc-a81e8446d5b0",
                                    "5": "3e90291c-9d61-eb11-84dc-a81e8446d5b0"
                                },
                                {
                                    "0": "[repo].[IndexColumn_ReferencedReferencing_HasFullColumnsInReferencing]",
                                    "1": "V ",
                                    "2": "[repo].[RepoObjectColumn_reference_union]",
                                    "3": "V ",
                                    "4": "7b90291c-9d61-eb11-84dc-a81e8446d5b0",
                                    "5": "7590291c-9d61-eb11-84dc-a81e8446d5b0"
                                },
                                {
                                    "0": "[repo].[IndexColumn_ReferencedReferencing_HasFullColumnsInReferencing_T]",
                                    "1": "U ",
                                    "2": "[repo].[IndexColumn_ReferencedReferencing_HasFullColumnsInReferencing]",
                                    "3": "V ",
                                    "4": "ab7ed154-6b62-eb11-84dc-a81e8446d5b0",
                                    "5": "7b90291c-9d61-eb11-84dc-a81e8446d5b0"
                                },
                                {
                                    "0": "[repo].[IndexColumn_union]",
                                    "1": "V ",
                                    "2": "[repo].[IndexColumn_virtual_gross]",
                                    "3": "V ",
                                    "4": "6790291c-9d61-eb11-84dc-a81e8446d5b0",
                                    "5": "0690291c-9d61-eb11-84dc-a81e8446d5b0"
                                },
                                {
                                    "0": "[repo].[IndexColumn_union]",
                                    "1": "V ",
                                    "2": "[repo_sys].[IndexColumn_unique]",
                                    "3": "V ",
                                    "4": "6790291c-9d61-eb11-84dc-a81e8446d5b0",
                                    "5": "6090291c-9d61-eb11-84dc-a81e8446d5b0"
                                },
                                {
                                    "0": "[repo].[IndexColumn_virtual_gross]",
                                    "1": "V ",
                                    "2": "[repo].[Index_virtual]",
                                    "3": "U ",
                                    "4": "0690291c-9d61-eb11-84dc-a81e8446d5b0",
                                    "5": "3490291c-9d61-eb11-84dc-a81e8446d5b0"
                                },
                                {
                                    "0": "[repo].[IndexColumn_virtual_gross]",
                                    "1": "V ",
                                    "2": "[repo].[IndexColumn_virtual]",
                                    "3": "U ",
                                    "4": "0690291c-9d61-eb11-84dc-a81e8446d5b0",
                                    "5": "4a90291c-9d61-eb11-84dc-a81e8446d5b0"
                                },
                                {
                                    "0": "[repo].[IndexColumn_virtual_gross]",
                                    "1": "V ",
                                    "2": "[repo].[RepoObject]",
                                    "3": "U ",
                                    "4": "0690291c-9d61-eb11-84dc-a81e8446d5b0",
                                    "5": "eb8f291c-9d61-eb11-84dc-a81e8446d5b0"
                                },
                                {
                                    "0": "[repo].[IndexColumn_virtual_gross]",
                                    "1": "V ",
                                    "2": "[repo].[RepoObjectColumn]",
                                    "3": "U ",
                                    "4": "0690291c-9d61-eb11-84dc-a81e8446d5b0",
                                    "5": "3e90291c-9d61-eb11-84dc-a81e8446d5b0"
                                },
                                {
                                    "0": "[repo].[IndexColumn_virtual_referenced_setpoint]",
                                    "1": "V ",
                                    "2": "[repo].[Index_virtual]",
                                    "3": "U ",
                                    "4": "7d90291c-9d61-eb11-84dc-a81e8446d5b0",
                                    "5": "3490291c-9d61-eb11-84dc-a81e8446d5b0"
                                },
                                {
                                    "0": "[repo].[IndexColumn_virtual_referenced_setpoint]",
                                    "1": "V ",
                                    "2": "[repo].[IndexColumn_ReferencedReferencing_HasFullColumnsInReferencing_T]",
                                    "3": "U ",
                                    "4": "7d90291c-9d61-eb11-84dc-a81e8446d5b0",
                                    "5": "ab7ed154-6b62-eb11-84dc-a81e8446d5b0"
                                },
                                {
                                    "0": "[repo].[IndexReferencedReferencing]",
                                    "1": "V ",
                                    "2": "[repo].[Index_union]",
                                    "3": "V ",
                                    "4": "6690291c-9d61-eb11-84dc-a81e8446d5b0",
                                    "5": "2590291c-9d61-eb11-84dc-a81e8446d5b0"
                                },
                                {
                                    "0": "[repo].[IndexReferencedReferencing]",
                                    "1": "V ",
                                    "2": "[repo].[Index_virtual]",
                                    "3": "U ",
                                    "4": "6690291c-9d61-eb11-84dc-a81e8446d5b0",
                                    "5": "3490291c-9d61-eb11-84dc-a81e8446d5b0"
                                },
                                {
                                    "0": "[repo].[IndexReferencedReferencing]",
                                    "1": "V ",
                                    "2": "[repo].[RepoObject_reference_union]",
                                    "3": "V ",
                                    "4": "6690291c-9d61-eb11-84dc-a81e8446d5b0",
                                    "5": "6390291c-9d61-eb11-84dc-a81e8446d5b0"
                                },
                                {
                                    "0": "[repo].[IndexReferencedReferencing_HasFullColumnsInReferencing]",
                                    "1": "V ",
                                    "2": "[repo].[Index_referencing_IndexPatternColumnGuid]",
                                    "3": "V ",
                                    "4": "8590291c-9d61-eb11-84dc-a81e8446d5b0",
                                    "5": "5ece8eb8-5f62-eb11-84dc-a81e8446d5b0"
                                },
                                {
                                    "0": "[repo].[IndexReferencedReferencing_HasFullColumnsInReferencing]",
                                    "1": "V ",
                                    "2": "[repo].[IndexColumn_ReferencedReferencing_HasFullColumnsInReferencing_T]",
                                    "3": "U ",
                                    "4": "8590291c-9d61-eb11-84dc-a81e8446d5b0",
                                    "5": "ab7ed154-6b62-eb11-84dc-a81e8446d5b0"
                                },
                                {
                                    "0": "[repo].[IndexReferencedReferencing_HasFullColumnsInReferencing]",
                                    "1": "V ",
                                    "2": "[repo].[IndexReferencedReferencing]",
                                    "3": "V ",
                                    "4": "8590291c-9d61-eb11-84dc-a81e8446d5b0",
                                    "5": "6690291c-9d61-eb11-84dc-a81e8446d5b0"
                                },
                                {
                                    "0": "[repo].[Match_RepoObject_referenced_UspPersistence]",
                                    "1": "V ",
                                    "2": "[graph].[ReferencedObject]",
                                    "3": "U ",
                                    "4": "1468f544-e466-eb11-84dd-a81e8446d5b0",
                                    "5": "8aefc212-b764-eb11-84dd-a81e8446d5b0"
                                },
                                {
                                    "0": "[repo].[Match_RepoObject_referenced_UspPersistence]",
                                    "1": "V ",
                                    "2": "[graph].[RepoObject]",
                                    "3": "U ",
                                    "4": "1468f544-e466-eb11-84dd-a81e8446d5b0",
                                    "5": "88efc212-b764-eb11-84dd-a81e8446d5b0"
                                },
                                {
                                    "0": "[repo].[Match_RepoObject_referenced_UspPersistence]",
                                    "1": "V ",
                                    "2": "[repo].[RepoObject_gross]",
                                    "3": "V ",
                                    "4": "1468f544-e466-eb11-84dd-a81e8446d5b0",
                                    "5": "7790291c-9d61-eb11-84dc-a81e8446d5b0"
                                },
                                {
                                    "0": "[repo].[ProcedureInstanceDependency_gross]",
                                    "1": "V ",
                                    "2": "[repo].[ProcedureInstance]",
                                    "3": "U ",
                                    "4": "e49d1ac1-9874-eb11-84e3-a81e8446d5b0",
                                    "5": "7534cb25-1e66-eb11-84dd-a81e8446d5b0"
                                },
                                {
                                    "0": "[repo].[ProcedureInstanceDependency_gross]",
                                    "1": "V ",
                                    "2": "[repo].[ProcedureInstanceDependency]",
                                    "3": "U ",
                                    "4": "e49d1ac1-9874-eb11-84e3-a81e8446d5b0",
                                    "5": "7a34cb25-1e66-eb11-84dd-a81e8446d5b0"
                                },
                                {
                                    "0": "[repo].[ProcedureInstanceDependency_gross]",
                                    "1": "V ",
                                    "2": "[repo].[RepoObject]",
                                    "3": "U ",
                                    "4": "e49d1ac1-9874-eb11-84e3-a81e8446d5b0",
                                    "5": "eb8f291c-9d61-eb11-84dc-a81e8446d5b0"
                                },
                                {
                                    "0": "[repo].[PropertyName_RepoObject]",
                                    "1": "V ",
                                    "2": "[repo].[Parameter]",
                                    "3": "U ",
                                    "4": "5db33a4a-426d-eb11-84e2-a81e8446d5b0",
                                    "5": "2490291c-9d61-eb11-84dc-a81e8446d5b0"
                                },
                                {
                                    "0": "[repo].[PropertyName_RepoObject]",
                                    "1": "V ",
                                    "2": "[repo].[RepoObjectProperty]",
                                    "3": "U ",
                                    "4": "5db33a4a-426d-eb11-84e2-a81e8446d5b0",
                                    "5": "1090291c-9d61-eb11-84dc-a81e8446d5b0"
                                },
                                {
                                    "0": "[repo].[PropertyName_RepoObjectColumn]",
                                    "1": "V ",
                                    "2": "[repo].[Parameter]",
                                    "3": "U ",
                                    "4": "5eb33a4a-426d-eb11-84e2-a81e8446d5b0",
                                    "5": "2490291c-9d61-eb11-84dc-a81e8446d5b0"
                                },
                                {
                                    "0": "[repo].[PropertyName_RepoObjectColumn]",
                                    "1": "V ",
                                    "2": "[repo].[RepoObjectColumnProperty]",
                                    "3": "U ",
                                    "4": "5eb33a4a-426d-eb11-84e2-a81e8446d5b0",
                                    "5": "1690291c-9d61-eb11-84dc-a81e8446d5b0"
                                },
                                {
                                    "0": "[repo].[RepoObject_ColumnList]",
                                    "1": "V ",
                                    "2": "[repo].[RepoObjectColumn_gross]",
                                    "3": "V ",
                                    "4": "6f90291c-9d61-eb11-84dc-a81e8446d5b0",
                                    "5": "6990291c-9d61-eb11-84dc-a81e8446d5b0"
                                },
                                {
                                    "0": "[repo].[RepoObject_gross]",
                                    "1": "V ",
                                    "2": "[repo].[RepoObject]",
                                    "3": "U ",
                                    "4": "7790291c-9d61-eb11-84dc-a81e8446d5b0",
                                    "5": "eb8f291c-9d61-eb11-84dc-a81e8446d5b0"
                                },
                                {
                                    "0": "[repo].[RepoObject_gross]",
                                    "1": "V ",
                                    "2": "[repo].[RepoObject_ColumnList]",
                                    "3": "V ",
                                    "4": "7790291c-9d61-eb11-84dc-a81e8446d5b0",
                                    "5": "6f90291c-9d61-eb11-84dc-a81e8446d5b0"
                                },
                                {
                                    "0": "[repo].[RepoObject_gross]",
                                    "1": "V ",
                                    "2": "[repo].[RepoObject_persistence]",
                                    "3": "U ",
                                    "4": "7790291c-9d61-eb11-84dc-a81e8446d5b0",
                                    "5": "4690291c-9d61-eb11-84dc-a81e8446d5b0"
                                },
                                {
                                    "0": "[repo].[RepoObject_InheritanceType_InheritanceDefinition]",
                                    "1": "V ",
                                    "2": "[repo].[Parameter]",
                                    "3": "U ",
                                    "4": "64b33a4a-426d-eb11-84e2-a81e8446d5b0",
                                    "5": "2490291c-9d61-eb11-84dc-a81e8446d5b0"
                                },
                                {
                                    "0": "[repo].[RepoObject_InheritanceType_InheritanceDefinition]",
                                    "1": "V ",
                                    "2": "[repo].[PropertyName_RepoObject]",
                                    "3": "V ",
                                    "4": "64b33a4a-426d-eb11-84e2-a81e8446d5b0",
                                    "5": "5db33a4a-426d-eb11-84e2-a81e8446d5b0"
                                },
                                {
                                    "0": "[repo].[RepoObject_InheritanceType_InheritanceDefinition]",
                                    "1": "V ",
                                    "2": "[repo].[RepoObject]",
                                    "3": "U ",
                                    "4": "64b33a4a-426d-eb11-84e2-a81e8446d5b0",
                                    "5": "eb8f291c-9d61-eb11-84dc-a81e8446d5b0"
                                },
                                {
                                    "0": "[repo].[RepoObject_InheritanceType_InheritanceDefinition]",
                                    "1": "V ",
                                    "2": "[repo].[RepoObjectProperty]",
                                    "3": "U ",
                                    "4": "64b33a4a-426d-eb11-84e2-a81e8446d5b0",
                                    "5": "1090291c-9d61-eb11-84dc-a81e8446d5b0"
                                },
                                {
                                    "0": "[repo].[RepoObject_InheritanceType_resulting_InheritanceDefinition]",
                                    "1": "V ",
                                    "2": "[repo].[RepoObject_InheritanceType_InheritanceDefinition]",
                                    "3": "V ",
                                    "4": "61b33a4a-426d-eb11-84e2-a81e8446d5b0",
                                    "5": "64b33a4a-426d-eb11-84e2-a81e8446d5b0"
                                },
                                {
                                    "0": "[repo].[RepoObject_persistence_column]",
                                    "1": "V ",
                                    "2": "[repo].[RepoObject]",
                                    "3": "U ",
                                    "4": "0490291c-9d61-eb11-84dc-a81e8446d5b0",
                                    "5": "eb8f291c-9d61-eb11-84dc-a81e8446d5b0"
                                },
                                {
                                    "0": "[repo].[RepoObject_persistence_column]",
                                    "1": "V ",
                                    "2": "[repo].[RepoObject_persistence]",
                                    "3": "U ",
                                    "4": "0490291c-9d61-eb11-84dc-a81e8446d5b0",
                                    "5": "4690291c-9d61-eb11-84dc-a81e8446d5b0"
                                },
                                {
                                    "0": "[repo].[RepoObject_persistence_column]",
                                    "1": "V ",
                                    "2": "[repo].[RepoObjectColumn]",
                                    "3": "U ",
                                    "4": "0490291c-9d61-eb11-84dc-a81e8446d5b0",
                                    "5": "3e90291c-9d61-eb11-84dc-a81e8446d5b0"
                                },
                                {
                                    "0": "[repo].[RepoObject_persistence_ForInput]",
                                    "1": "V ",
                                    "2": "[repo].[RepoObject]",
                                    "3": "U ",
                                    "4": "88813d1c-6662-eb11-84dc-a81e8446d5b0",
                                    "5": "eb8f291c-9d61-eb11-84dc-a81e8446d5b0"
                                },
                                {
                                    "0": "[repo].[RepoObject_persistence_ForInput]",
                                    "1": "V ",
                                    "2": "[repo].[RepoObject_persistence]",
                                    "3": "U ",
                                    "4": "88813d1c-6662-eb11-84dc-a81e8446d5b0",
                                    "5": "4690291c-9d61-eb11-84dc-a81e8446d5b0"
                                },
                                {
                                    "0": "[repo].[RepoObject_persistence_ObjectNames]",
                                    "1": "V ",
                                    "2": "[repo].[RepoObject]",
                                    "3": "U ",
                                    "4": "0590291c-9d61-eb11-84dc-a81e8446d5b0",
                                    "5": "eb8f291c-9d61-eb11-84dc-a81e8446d5b0"
                                },
                                {
                                    "0": "[repo].[RepoObject_persistence_ObjectNames]",
                                    "1": "V ",
                                    "2": "[repo].[RepoObject_persistence]",
                                    "3": "U ",
                                    "4": "0590291c-9d61-eb11-84dc-a81e8446d5b0",
                                    "5": "4690291c-9d61-eb11-84dc-a81e8446d5b0"
                                },
                                {
                                    "0": "[repo].[RepoObject_reference_persistence]",
                                    "1": "V ",
                                    "2": "[repo].[RepoObject]",
                                    "3": "U ",
                                    "4": "f38f291c-9d61-eb11-84dc-a81e8446d5b0",
                                    "5": "eb8f291c-9d61-eb11-84dc-a81e8446d5b0"
                                },
                                {
                                    "0": "[repo].[RepoObject_reference_persistence]",
                                    "1": "V ",
                                    "2": "[repo].[RepoObject_persistence]",
                                    "3": "U ",
                                    "4": "f38f291c-9d61-eb11-84dc-a81e8446d5b0",
                                    "5": "4690291c-9d61-eb11-84dc-a81e8446d5b0"
                                },
                                {
                                    "0": "[repo].[RepoObject_reference_SqlExpressionDependencies]",
                                    "1": "V ",
                                    "2": "[repo_sys].[sql_expression_dependencies]",
                                    "3": "V ",
                                    "4": "6290291c-9d61-eb11-84dc-a81e8446d5b0",
                                    "5": "6190291c-9d61-eb11-84dc-a81e8446d5b0"
                                },
                                {
                                    "0": "[repo].[RepoObject_reference_union]",
                                    "1": "V ",
                                    "2": "[repo].[RepoObject_reference_persistence]",
                                    "3": "V ",
                                    "4": "6390291c-9d61-eb11-84dc-a81e8446d5b0",
                                    "5": "f38f291c-9d61-eb11-84dc-a81e8446d5b0"
                                },
                                {
                                    "0": "[repo].[RepoObject_reference_union]",
                                    "1": "V ",
                                    "2": "[repo].[RepoObject_reference_SqlExpressionDependencies]",
                                    "3": "V ",
                                    "4": "6390291c-9d61-eb11-84dc-a81e8446d5b0",
                                    "5": "6290291c-9d61-eb11-84dc-a81e8446d5b0"
                                },
                                {
                                    "0": "[repo].[RepoObject_reference_union_node_id]",
                                    "1": "V ",
                                    "2": "[graph].[RepoObject]",
                                    "3": "U ",
                                    "4": "d39dcb84-bf64-eb11-84dd-a81e8446d5b0",
                                    "5": "88efc212-b764-eb11-84dd-a81e8446d5b0"
                                },
                                {
                                    "0": "[repo].[RepoObject_reference_union_node_id]",
                                    "1": "V ",
                                    "2": "[repo].[RepoObject_reference_union]",
                                    "3": "V ",
                                    "4": "d39dcb84-bf64-eb11-84dd-a81e8446d5b0",
                                    "5": "6390291c-9d61-eb11-84dc-a81e8446d5b0"
                                },
                                {
                                    "0": "[repo].[RepoObject_RequiredRepoObjectMerge]",
                                    "1": "V ",
                                    "2": "[repo].[RepoObject]",
                                    "3": "U ",
                                    "4": "52230f14-2e66-eb11-84dd-a81e8446d5b0",
                                    "5": "eb8f291c-9d61-eb11-84dc-a81e8446d5b0"
                                },
                                {
                                    "0": "[repo].[RepoObject_SqlCreateTable]",
                                    "1": "V ",
                                    "2": "[repo].[Index_SqlConstraint_PkUq]",
                                    "3": "V ",
                                    "4": "7990291c-9d61-eb11-84dc-a81e8446d5b0",
                                    "5": "7190291c-9d61-eb11-84dc-a81e8446d5b0"
                                },
                                {
                                    "0": "[repo].[RepoObject_SqlCreateTable]",
                                    "1": "V ",
                                    "2": "[repo].[RepoObject]",
                                    "3": "U ",
                                    "4": "7990291c-9d61-eb11-84dc-a81e8446d5b0",
                                    "5": "eb8f291c-9d61-eb11-84dc-a81e8446d5b0"
                                },
                                {
                                    "0": "[repo].[RepoObject_SqlCreateTable]",
                                    "1": "V ",
                                    "2": "[repo].[RepoObject_ColumnList]",
                                    "3": "V ",
                                    "4": "7990291c-9d61-eb11-84dc-a81e8446d5b0",
                                    "5": "6f90291c-9d61-eb11-84dc-a81e8446d5b0"
                                },
                                {
                                    "0": "[repo].[RepoObject_SqlCreateTable]",
                                    "1": "V ",
                                    "2": "[repo].[RepoObject_gross]",
                                    "3": "V ",
                                    "4": "7990291c-9d61-eb11-84dc-a81e8446d5b0",
                                    "5": "7790291c-9d61-eb11-84dc-a81e8446d5b0"
                                },
                                {
                                    "0": "[repo].[RepoObject_SqlCreateTable]",
                                    "1": "V ",
                                    "2": "[repo].[RepoObjectColumn]",
                                    "3": "U ",
                                    "4": "7990291c-9d61-eb11-84dc-a81e8446d5b0",
                                    "5": "3e90291c-9d61-eb11-84dc-a81e8446d5b0"
                                },
                                {
                                    "0": "[repo].[RepoObject_SqlModules_10_statement]",
                                    "1": "V ",
                                    "2": "[repo].[RepoObject]",
                                    "3": "U ",
                                    "4": "f58f291c-9d61-eb11-84dc-a81e8446d5b0",
                                    "5": "eb8f291c-9d61-eb11-84dc-a81e8446d5b0"
                                },
                                {
                                    "0": "[repo].[RepoObject_SqlModules_10_statement]",
                                    "1": "V ",
                                    "2": "[repo].[RepoObject_SqlModules]",
                                    "3": "U ",
                                    "4": "f58f291c-9d61-eb11-84dc-a81e8446d5b0",
                                    "5": "2890291c-9d61-eb11-84dc-a81e8446d5b0"
                                },
                                {
                                    "0": "[repo].[RepoObject_SqlModules_20_statement_children]",
                                    "1": "V ",
                                    "2": "[repo].[RepoObject_SqlModules_10_statement]",
                                    "3": "V ",
                                    "4": "f78f291c-9d61-eb11-84dc-a81e8446d5b0",
                                    "5": "f58f291c-9d61-eb11-84dc-a81e8446d5b0"
                                },
                                {
                                    "0": "[repo].[RepoObject_SqlModules_21_statement_children_helper]",
                                    "1": "V ",
                                    "2": "[repo].[RepoObject_SqlModules_20_statement_children]",
                                    "3": "V ",
                                    "4": "f98f291c-9d61-eb11-84dc-a81e8446d5b0",
                                    "5": "f78f291c-9d61-eb11-84dc-a81e8446d5b0"
                                },
                                {
                                    "0": "[repo].[RepoObject_SqlModules_22_identifier_alias_AS]",
                                    "1": "V ",
                                    "2": "[repo].[RepoObject_SqlModules_20_statement_children]",
                                    "3": "V ",
                                    "4": "3790291c-9d61-eb11-84dc-a81e8446d5b0",
                                    "5": "f78f291c-9d61-eb11-84dc-a81e8446d5b0"
                                },
                                {
                                    "0": "[repo].[RepoObject_SqlModules_23_normalized_wo_nolock]",
                                    "1": "V ",
                                    "2": "[repo].[RepoObject_SqlModules_20_statement_children]",
                                    "3": "V ",
                                    "4": "3990291c-9d61-eb11-84dc-a81e8446d5b0",
                                    "5": "f78f291c-9d61-eb11-84dc-a81e8446d5b0"
                                },
                                {
                                    "0": "[repo].[RepoObject_SqlModules_24_IdentifierList_children]",
                                    "1": "V ",
                                    "2": "[repo].[RepoObject_SqlModules_20_statement_children]",
                                    "3": "V ",
                                    "4": "3b90291c-9d61-eb11-84dc-a81e8446d5b0",
                                    "5": "f78f291c-9d61-eb11-84dc-a81e8446d5b0"
                                },
                                {
                                    "0": "[repo].[RepoObject_SqlModules_25_IdentifierList_children_IdentifierSplit]",
                                    "1": "V ",
                                    "2": "[repo].[RepoObject_SqlModules_24_IdentifierList_children]",
                                    "3": "V ",
                                    "4": "3d90291c-9d61-eb11-84dc-a81e8446d5b0",
                                    "5": "3b90291c-9d61-eb11-84dc-a81e8446d5b0"
                                },
                                {
                                    "0": "[repo].[RepoObject_SqlModules_26_IdentifierList_children_IdentifierSplit_QuoteName]",
                                    "1": "V ",
                                    "2": "[repo].[RepoObject_SqlModules_25_IdentifierList_children_IdentifierSplit]",
                                    "3": "V ",
                                    "4": "0c813ebd-7764-eb11-84dd-a81e8446d5b0",
                                    "5": "3d90291c-9d61-eb11-84dc-a81e8446d5b0"
                                },
                                {
                                    "0": "[repo].[RepoObject_SqlModules_29_1_object_is_union]",
                                    "1": "V ",
                                    "2": "[repo].[RepoObject_SqlModules_20_statement_children]",
                                    "3": "V ",
                                    "4": "fb8f291c-9d61-eb11-84dc-a81e8446d5b0",
                                    "5": "f78f291c-9d61-eb11-84dc-a81e8446d5b0"
                                },
                                {
                                    "0": "[repo].[RepoObject_SqlModules_29_2_object_is_GroupBy]",
                                    "1": "V ",
                                    "2": "[repo].[RepoObject_SqlModules_20_statement_children]",
                                    "3": "V ",
                                    "4": "fd8f291c-9d61-eb11-84dc-a81e8446d5b0",
                                    "5": "f78f291c-9d61-eb11-84dc-a81e8446d5b0"
                                },
                                {
                                    "0": "[repo].[RepoObject_SqlModules_31_object]",
                                    "1": "V ",
                                    "2": "[repo].[RepoObject_SqlModules_21_statement_children_helper]",
                                    "3": "V ",
                                    "4": "fe8f291c-9d61-eb11-84dc-a81e8446d5b0",
                                    "5": "f98f291c-9d61-eb11-84dc-a81e8446d5b0"
                                },
                                {
                                    "0": "[repo].[RepoObject_SqlModules_32_ObjectClass]",
                                    "1": "V ",
                                    "2": "[repo].[RepoObject_SqlModules_20_statement_children]",
                                    "3": "V ",
                                    "4": "ff8f291c-9d61-eb11-84dc-a81e8446d5b0",
                                    "5": "f78f291c-9d61-eb11-84dc-a81e8446d5b0"
                                },
                                {
                                    "0": "[repo].[RepoObject_SqlModules_33_ObjectNormalized]",
                                    "1": "V ",
                                    "2": "[repo].[RepoObject_SqlModules_20_statement_children]",
                                    "3": "V ",
                                    "4": "0090291c-9d61-eb11-84dc-a81e8446d5b0",
                                    "5": "f78f291c-9d61-eb11-84dc-a81e8446d5b0"
                                },
                                {
                                    "0": "[repo].[RepoObject_SqlModules_39_object]",
                                    "1": "V ",
                                    "2": "[repo].[RepoObject]",
                                    "3": "U ",
                                    "4": "0190291c-9d61-eb11-84dc-a81e8446d5b0",
                                    "5": "eb8f291c-9d61-eb11-84dc-a81e8446d5b0"
                                },
                                {
                                    "0": "[repo].[RepoObject_SqlModules_39_object]",
                                    "1": "V ",
                                    "2": "[repo].[RepoObject_SqlModules]",
                                    "3": "U ",
                                    "4": "0190291c-9d61-eb11-84dc-a81e8446d5b0",
                                    "5": "2890291c-9d61-eb11-84dc-a81e8446d5b0"
                                },
                                {
                                    "0": "[repo].[RepoObject_SqlModules_39_object]",
                                    "1": "V ",
                                    "2": "[repo].[RepoObject_SqlModules_29_1_object_is_union]",
                                    "3": "V ",
                                    "4": "0190291c-9d61-eb11-84dc-a81e8446d5b0",
                                    "5": "fb8f291c-9d61-eb11-84dc-a81e8446d5b0"
                                },
                                {
                                    "0": "[repo].[RepoObject_SqlModules_39_object]",
                                    "1": "V ",
                                    "2": "[repo].[RepoObject_SqlModules_29_2_object_is_GroupBy]",
                                    "3": "V ",
                                    "4": "0190291c-9d61-eb11-84dc-a81e8446d5b0",
                                    "5": "fd8f291c-9d61-eb11-84dc-a81e8446d5b0"
                                },
                                {
                                    "0": "[repo].[RepoObject_SqlModules_39_object]",
                                    "1": "V ",
                                    "2": "[repo].[RepoObject_SqlModules_31_object]",
                                    "3": "V ",
                                    "4": "0190291c-9d61-eb11-84dc-a81e8446d5b0",
                                    "5": "fe8f291c-9d61-eb11-84dc-a81e8446d5b0"
                                },
                                {
                                    "0": "[repo].[RepoObject_SqlModules_39_object]",
                                    "1": "V ",
                                    "2": "[repo].[RepoObject_SqlModules_32_ObjectClass]",
                                    "3": "V ",
                                    "4": "0190291c-9d61-eb11-84dc-a81e8446d5b0",
                                    "5": "ff8f291c-9d61-eb11-84dc-a81e8446d5b0"
                                },
                                {
                                    "0": "[repo].[RepoObject_SqlModules_39_object]",
                                    "1": "V ",
                                    "2": "[repo].[RepoObject_SqlModules_33_ObjectNormalized]",
                                    "3": "V ",
                                    "4": "0190291c-9d61-eb11-84dc-a81e8446d5b0",
                                    "5": "0090291c-9d61-eb11-84dc-a81e8446d5b0"
                                },
                                {
                                    "0": "[repo].[RepoObject_SqlModules_41_from]",
                                    "1": "V ",
                                    "2": "[repo].[join_type]",
                                    "3": "V ",
                                    "4": "3f90291c-9d61-eb11-84dc-a81e8446d5b0",
                                    "5": "c190291c-9d61-eb11-84dc-a81e8446d5b0"
                                },
                                {
                                    "0": "[repo].[RepoObject_SqlModules_41_from]",
                                    "1": "V ",
                                    "2": "[repo].[RepoObject_SqlModules_20_statement_children]",
                                    "3": "V ",
                                    "4": "3f90291c-9d61-eb11-84dc-a81e8446d5b0",
                                    "5": "f78f291c-9d61-eb11-84dc-a81e8446d5b0"
                                },
                                {
                                    "0": "[repo].[RepoObject_SqlModules_41_from]",
                                    "1": "V ",
                                    "2": "[repo].[RepoObject_SqlModules_22_identifier_alias_AS]",
                                    "3": "V ",
                                    "4": "3f90291c-9d61-eb11-84dc-a81e8446d5b0",
                                    "5": "3790291c-9d61-eb11-84dc-a81e8446d5b0"
                                },
                                {
                                    "0": "[repo].[RepoObject_SqlModules_41_from]",
                                    "1": "V ",
                                    "2": "[repo].[RepoObject_SqlModules_39_object]",
                                    "3": "V ",
                                    "4": "3f90291c-9d61-eb11-84dc-a81e8446d5b0",
                                    "5": "0190291c-9d61-eb11-84dc-a81e8446d5b0"
                                },
                                {
                                    "0": "[repo].[RepoObject_SqlModules_41_from_T]",
                                    "1": "U ",
                                    "2": "[repo].[RepoObject_SqlModules_41_from]",
                                    "3": "V ",
                                    "4": "4e4cb4d0-4762-eb11-84dc-a81e8446d5b0",
                                    "5": "3f90291c-9d61-eb11-84dc-a81e8446d5b0"
                                },
                                {
                                    "0": "[repo].[RepoObject_SqlModules_42_from_Identifier]",
                                    "1": "V ",
                                    "2": "[repo].[RepoObject_SqlModules_29_1_object_is_union]",
                                    "3": "V ",
                                    "4": "4190291c-9d61-eb11-84dc-a81e8446d5b0",
                                    "5": "fb8f291c-9d61-eb11-84dc-a81e8446d5b0"
                                },
                                {
                                    "0": "[repo].[RepoObject_SqlModules_42_from_Identifier]",
                                    "1": "V ",
                                    "2": "[repo].[RepoObject_SqlModules_41_from_T]",
                                    "3": "U ",
                                    "4": "4190291c-9d61-eb11-84dc-a81e8446d5b0",
                                    "5": "4e4cb4d0-4762-eb11-84dc-a81e8446d5b0"
                                },
                                {
                                    "0": "[repo].[RepoObject_SqlModules_43_from_Identifier]",
                                    "1": "V ",
                                    "2": "[repo].[RepoObject_SqlModules_42_from_Identifier]",
                                    "3": "V ",
                                    "4": "fe5bfbad-f063-eb11-84dd-a81e8446d5b0",
                                    "5": "4190291c-9d61-eb11-84dc-a81e8446d5b0"
                                },
                                {
                                    "0": "[repo].[RepoObject_SqlModules_44_from_Identifier_QuoteName]",
                                    "1": "V ",
                                    "2": "[repo].[RepoObject_SqlModules_43_from_Identifier]",
                                    "3": "V ",
                                    "4": "5c4241cb-fb63-eb11-84dd-a81e8446d5b0",
                                    "5": "fe5bfbad-f063-eb11-84dd-a81e8446d5b0"
                                },
                                {
                                    "0": "[repo].[RepoObject_SqlModules_51_Identitfier]",
                                    "1": "V ",
                                    "2": "[repo].[RepoObject_SqlModules_20_statement_children]",
                                    "3": "V ",
                                    "4": "0e813ebd-7764-eb11-84dd-a81e8446d5b0",
                                    "5": "f78f291c-9d61-eb11-84dc-a81e8446d5b0"
                                },
                                {
                                    "0": "[repo].[RepoObject_SqlModules_52_Identitfier_QuoteName]",
                                    "1": "V ",
                                    "2": "[repo].[RepoObject_SqlModules_51_Identitfier]",
                                    "3": "V ",
                                    "4": "2e454a02-8364-eb11-84dd-a81e8446d5b0",
                                    "5": "0e813ebd-7764-eb11-84dd-a81e8446d5b0"
                                },
                                {
                                    "0": "[repo].[RepoObject_SqlModules_61_SelectIdentifier_Union]",
                                    "1": "V ",
                                    "2": "[repo].[RepoObject_SqlModules_26_IdentifierList_children_IdentifierSplit_QuoteName]",
                                    "3": "V ",
                                    "4": "127e4be1-8f64-eb11-84dd-a81e8446d5b0",
                                    "5": "0c813ebd-7764-eb11-84dd-a81e8446d5b0"
                                },
                                {
                                    "0": "[repo].[RepoObject_SqlModules_61_SelectIdentifier_Union]",
                                    "1": "V ",
                                    "2": "[repo].[RepoObject_SqlModules_39_object]",
                                    "3": "V ",
                                    "4": "127e4be1-8f64-eb11-84dd-a81e8446d5b0",
                                    "5": "0190291c-9d61-eb11-84dc-a81e8446d5b0"
                                },
                                {
                                    "0": "[repo].[RepoObject_SqlModules_61_SelectIdentifier_Union]",
                                    "1": "V ",
                                    "2": "[repo].[RepoObject_SqlModules_52_Identitfier_QuoteName]",
                                    "3": "V ",
                                    "4": "127e4be1-8f64-eb11-84dd-a81e8446d5b0",
                                    "5": "2e454a02-8364-eb11-84dd-a81e8446d5b0"
                                },
                                {
                                    "0": "[repo].[RepoObject_SqlModules_61_SelectIdentifier_Union_T]",
                                    "1": "U ",
                                    "2": "[repo].[RepoObject_SqlModules_61_SelectIdentifier_Union]",
                                    "3": "V ",
                                    "4": "86efc212-b764-eb11-84dd-a81e8446d5b0",
                                    "5": "127e4be1-8f64-eb11-84dd-a81e8446d5b0"
                                },
                                {
                                    "0": "[repo].[RepoObject_SqlModules_71_reference_ExpliciteTableAlias]",
                                    "1": "V ",
                                    "2": "[repo].[RepoObject]",
                                    "3": "U ",
                                    "4": "0d813ebd-7764-eb11-84dd-a81e8446d5b0",
                                    "5": "eb8f291c-9d61-eb11-84dc-a81e8446d5b0"
                                },
                                {
                                    "0": "[repo].[RepoObject_SqlModules_71_reference_ExpliciteTableAlias]",
                                    "1": "V ",
                                    "2": "[repo].[RepoObject_SqlModules_44_from_Identifier_QuoteName]",
                                    "3": "V ",
                                    "4": "0d813ebd-7764-eb11-84dd-a81e8446d5b0",
                                    "5": "5c4241cb-fb63-eb11-84dd-a81e8446d5b0"
                                },
                                {
                                    "0": "[repo].[RepoObject_SqlModules_71_reference_ExpliciteTableAlias]",
                                    "1": "V ",
                                    "2": "[repo].[RepoObject_SqlModules_61_SelectIdentifier_Union_T]",
                                    "3": "U ",
                                    "4": "0d813ebd-7764-eb11-84dd-a81e8446d5b0",
                                    "5": "86efc212-b764-eb11-84dd-a81e8446d5b0"
                                },
                                {
                                    "0": "[repo].[RepoObject_SqlModules_71_reference_ExpliciteTableAlias]",
                                    "1": "V ",
                                    "2": "[repo].[RepoObjectColumn]",
                                    "3": "U ",
                                    "4": "0d813ebd-7764-eb11-84dd-a81e8446d5b0",
                                    "5": "3e90291c-9d61-eb11-84dc-a81e8446d5b0"
                                },
                                {
                                    "0": "[repo].[RepoObject_SqlModules_72_reference_NoTableAlias]",
                                    "1": "V ",
                                    "2": "[repo].[RepoObject]",
                                    "3": "U ",
                                    "4": "137e4be1-8f64-eb11-84dd-a81e8446d5b0",
                                    "5": "eb8f291c-9d61-eb11-84dc-a81e8446d5b0"
                                },
                                {
                                    "0": "[repo].[RepoObject_SqlModules_72_reference_NoTableAlias]",
                                    "1": "V ",
                                    "2": "[repo].[RepoObject_SqlModules_44_from_Identifier_QuoteName]",
                                    "3": "V ",
                                    "4": "137e4be1-8f64-eb11-84dd-a81e8446d5b0",
                                    "5": "5c4241cb-fb63-eb11-84dd-a81e8446d5b0"
                                },
                                {
                                    "0": "[repo].[RepoObject_SqlModules_72_reference_NoTableAlias]",
                                    "1": "V ",
                                    "2": "[repo].[RepoObject_SqlModules_61_SelectIdentifier_Union_T]",
                                    "3": "U ",
                                    "4": "137e4be1-8f64-eb11-84dd-a81e8446d5b0",
                                    "5": "86efc212-b764-eb11-84dd-a81e8446d5b0"
                                },
                                {
                                    "0": "[repo].[RepoObject_SqlModules_72_reference_NoTableAlias]",
                                    "1": "V ",
                                    "2": "[repo].[RepoObjectColumn]",
                                    "3": "U ",
                                    "4": "137e4be1-8f64-eb11-84dd-a81e8446d5b0",
                                    "5": "3e90291c-9d61-eb11-84dc-a81e8446d5b0"
                                },
                                {
                                    "0": "[repo].[RepoObject_SqlModules_79_reference_union]",
                                    "1": "V ",
                                    "2": "[repo].[RepoObject_SqlModules_71_reference_ExpliciteTableAlias]",
                                    "3": "V ",
                                    "4": "d18f8f21-4265-eb11-84dd-a81e8446d5b0",
                                    "5": "0d813ebd-7764-eb11-84dd-a81e8446d5b0"
                                },
                                {
                                    "0": "[repo].[RepoObject_SqlModules_79_reference_union]",
                                    "1": "V ",
                                    "2": "[repo].[RepoObject_SqlModules_72_reference_NoTableAlias]",
                                    "3": "V ",
                                    "4": "d18f8f21-4265-eb11-84dd-a81e8446d5b0",
                                    "5": "137e4be1-8f64-eb11-84dd-a81e8446d5b0"
                                },
                                {
                                    "0": "[repo].[RepoObject_SqlModules_990_obsolet]",
                                    "1": "V ",
                                    "2": "[repo].[RepoObject_SqlModules]",
                                    "3": "U ",
                                    "4": "c390291c-9d61-eb11-84dc-a81e8446d5b0",
                                    "5": "2890291c-9d61-eb11-84dc-a81e8446d5b0"
                                },
                                {
                                    "0": "[repo].[RepoObject_SqlModules_Identitfier]",
                                    "1": "V ",
                                    "2": "[repo].[RepoObject_SqlModules_20_statement_children]",
                                    "3": "V ",
                                    "4": "0f813ebd-7764-eb11-84dd-a81e8446d5b0",
                                    "5": "f78f291c-9d61-eb11-84dc-a81e8446d5b0"
                                },
                                {
                                    "0": "[repo].[RepoObject_SqlModules_Repo_Sys]",
                                    "1": "V ",
                                    "2": "[repo].[RepoObject]",
                                    "3": "U ",
                                    "4": "5390291c-9d61-eb11-84dc-a81e8446d5b0",
                                    "5": "eb8f291c-9d61-eb11-84dc-a81e8446d5b0"
                                },
                                {
                                    "0": "[repo].[RepoObject_SqlModules_Repo_Sys]",
                                    "1": "V ",
                                    "2": "[repo].[RepoObject_SqlModules]",
                                    "3": "U ",
                                    "4": "5390291c-9d61-eb11-84dc-a81e8446d5b0",
                                    "5": "2890291c-9d61-eb11-84dc-a81e8446d5b0"
                                },
                                {
                                    "0": "[repo].[RepoObject_SqlModules_Repo_Sys]",
                                    "1": "V ",
                                    "2": "[repo_sys].[SysObject]",
                                    "3": "V ",
                                    "4": "5390291c-9d61-eb11-84dc-a81e8446d5b0",
                                    "5": "4f90291c-9d61-eb11-84dc-a81e8446d5b0"
                                },
                                {
                                    "0": "[repo].[RepoObjectColumn_gross]",
                                    "1": "V ",
                                    "2": "[repo].[IndexColumn_union]",
                                    "3": "V ",
                                    "4": "6990291c-9d61-eb11-84dc-a81e8446d5b0",
                                    "5": "6790291c-9d61-eb11-84dc-a81e8446d5b0"
                                },
                                {
                                    "0": "[repo].[RepoObjectColumn_gross]",
                                    "1": "V ",
                                    "2": "[repo].[RepoObject]",
                                    "3": "U ",
                                    "4": "6990291c-9d61-eb11-84dc-a81e8446d5b0",
                                    "5": "eb8f291c-9d61-eb11-84dc-a81e8446d5b0"
                                },
                                {
                                    "0": "[repo].[RepoObjectColumn_gross]",
                                    "1": "V ",
                                    "2": "[repo].[RepoObjectColumn]",
                                    "3": "U ",
                                    "4": "6990291c-9d61-eb11-84dc-a81e8446d5b0",
                                    "5": "3e90291c-9d61-eb11-84dc-a81e8446d5b0"
                                },
                                {
                                    "0": "[repo].[RepoObjectColumn_HistValidColums_setpoint]",
                                    "1": "V ",
                                    "2": "[repo].[RepoObject_persistence]",
                                    "3": "U ",
                                    "4": "4390291c-9d61-eb11-84dc-a81e8446d5b0",
                                    "5": "4690291c-9d61-eb11-84dc-a81e8446d5b0"
                                },
                                {
                                    "0": "[repo].[RepoObjectColumn_InheritanceType_InheritanceDefinition]",
                                    "1": "V ",
                                    "2": "[repo].[Parameter]",
                                    "3": "U ",
                                    "4": "65b33a4a-426d-eb11-84e2-a81e8446d5b0",
                                    "5": "2490291c-9d61-eb11-84dc-a81e8446d5b0"
                                },
                                {
                                    "0": "[repo].[RepoObjectColumn_InheritanceType_InheritanceDefinition]",
                                    "1": "V ",
                                    "2": "[repo].[PropertyName_RepoObjectColumn]",
                                    "3": "V ",
                                    "4": "65b33a4a-426d-eb11-84e2-a81e8446d5b0",
                                    "5": "5eb33a4a-426d-eb11-84e2-a81e8446d5b0"
                                },
                                {
                                    "0": "[repo].[RepoObjectColumn_InheritanceType_InheritanceDefinition]",
                                    "1": "V ",
                                    "2": "[repo].[RepoObjectColumn]",
                                    "3": "U ",
                                    "4": "65b33a4a-426d-eb11-84e2-a81e8446d5b0",
                                    "5": "3e90291c-9d61-eb11-84dc-a81e8446d5b0"
                                },
                                {
                                    "0": "[repo].[RepoObjectColumn_InheritanceType_InheritanceDefinition]",
                                    "1": "V ",
                                    "2": "[repo].[RepoObjectColumnProperty]",
                                    "3": "U ",
                                    "4": "65b33a4a-426d-eb11-84e2-a81e8446d5b0",
                                    "5": "1690291c-9d61-eb11-84dc-a81e8446d5b0"
                                },
                                {
                                    "0": "[repo].[RepoObjectColumn_InheritanceType_resulting_InheritanceDefinition]",
                                    "1": "V ",
                                    "2": "[repo].[RepoObjectColumn_InheritanceType_InheritanceDefinition]",
                                    "3": "V ",
                                    "4": "53b33a4a-426d-eb11-84e2-a81e8446d5b0",
                                    "5": "65b33a4a-426d-eb11-84e2-a81e8446d5b0"
                                },
                                {
                                    "0": "[repo].[RepoObjectColumn_MissingSource_TypeV]",
                                    "1": "V ",
                                    "2": "[repo].[RepoObject]",
                                    "3": "U ",
                                    "4": "8390291c-9d61-eb11-84dc-a81e8446d5b0",
                                    "5": "eb8f291c-9d61-eb11-84dc-a81e8446d5b0"
                                },
                                {
                                    "0": "[repo].[RepoObjectColumn_MissingSource_TypeV]",
                                    "1": "V ",
                                    "2": "[repo].[RepoObjectColumn]",
                                    "3": "U ",
                                    "4": "8390291c-9d61-eb11-84dc-a81e8446d5b0",
                                    "5": "3e90291c-9d61-eb11-84dc-a81e8446d5b0"
                                },
                                {
                                    "0": "[repo].[RepoObjectColumn_MissingSource_TypeV]",
                                    "1": "V ",
                                    "2": "[repo].[RepoObjectColumn_reference_union]",
                                    "3": "V ",
                                    "4": "8390291c-9d61-eb11-84dc-a81e8446d5b0",
                                    "5": "7590291c-9d61-eb11-84dc-a81e8446d5b0"
                                },
                                {
                                    "0": "[repo].[RepoObjectColumn_reference_BySamePredecessors]",
                                    "1": "V ",
                                    "2": "[repo].[RepoObject_reference_union]",
                                    "3": "V ",
                                    "4": "7390291c-9d61-eb11-84dc-a81e8446d5b0",
                                    "5": "6390291c-9d61-eb11-84dc-a81e8446d5b0"
                                },
                                {
                                    "0": "[repo].[RepoObjectColumn_reference_BySamePredecessors]",
                                    "1": "V ",
                                    "2": "[repo].[RepoObjectColumn_reference_FirstResultSet]",
                                    "3": "V ",
                                    "4": "7390291c-9d61-eb11-84dc-a81e8446d5b0",
                                    "5": "6b90291c-9d61-eb11-84dc-a81e8446d5b0"
                                },
                                {
                                    "0": "[repo].[RepoObjectColumn_reference_FirstResultSet]",
                                    "1": "V ",
                                    "2": "[repo].[RepoObject]",
                                    "3": "U ",
                                    "4": "6b90291c-9d61-eb11-84dc-a81e8446d5b0",
                                    "5": "eb8f291c-9d61-eb11-84dc-a81e8446d5b0"
                                },
                                {
                                    "0": "[repo].[RepoObjectColumn_reference_FirstResultSet]",
                                    "1": "V ",
                                    "2": "[repo].[RepoObject_reference_union]",
                                    "3": "V ",
                                    "4": "6b90291c-9d61-eb11-84dc-a81e8446d5b0",
                                    "5": "6390291c-9d61-eb11-84dc-a81e8446d5b0"
                                },
                                {
                                    "0": "[repo].[RepoObjectColumn_reference_FirstResultSet]",
                                    "1": "V ",
                                    "2": "[repo].[RepoObjectColumn_gross]",
                                    "3": "V ",
                                    "4": "6b90291c-9d61-eb11-84dc-a81e8446d5b0",
                                    "5": "6990291c-9d61-eb11-84dc-a81e8446d5b0"
                                },
                                {
                                    "0": "[repo].[RepoObjectColumn_reference_FirstResultSet]",
                                    "1": "V ",
                                    "2": "[repo].[RepoObjectSource_FirstResultSet]",
                                    "3": "U ",
                                    "4": "6b90291c-9d61-eb11-84dc-a81e8446d5b0",
                                    "5": "2c90291c-9d61-eb11-84dc-a81e8446d5b0"
                                },
                                {
                                    "0": "[repo].[RepoObjectColumn_reference_Persistence]",
                                    "1": "V ",
                                    "2": "[repo].[RepoObject]",
                                    "3": "U ",
                                    "4": "0290291c-9d61-eb11-84dc-a81e8446d5b0",
                                    "5": "eb8f291c-9d61-eb11-84dc-a81e8446d5b0"
                                },
                                {
                                    "0": "[repo].[RepoObjectColumn_reference_Persistence]",
                                    "1": "V ",
                                    "2": "[repo].[RepoObject_persistence]",
                                    "3": "U ",
                                    "4": "0290291c-9d61-eb11-84dc-a81e8446d5b0",
                                    "5": "4690291c-9d61-eb11-84dc-a81e8446d5b0"
                                },
                                {
                                    "0": "[repo].[RepoObjectColumn_reference_Persistence]",
                                    "1": "V ",
                                    "2": "[repo].[RepoObjectColumn]",
                                    "3": "U ",
                                    "4": "0290291c-9d61-eb11-84dc-a81e8446d5b0",
                                    "5": "3e90291c-9d61-eb11-84dc-a81e8446d5b0"
                                },
                                {
                                    "0": "[repo].[RepoObjectColumn_reference_QueryPlan]",
                                    "1": "V ",
                                    "2": "[repo].[RepoObject]",
                                    "3": "U ",
                                    "4": "6c90291c-9d61-eb11-84dc-a81e8446d5b0",
                                    "5": "eb8f291c-9d61-eb11-84dc-a81e8446d5b0"
                                },
                                {
                                    "0": "[repo].[RepoObjectColumn_reference_QueryPlan]",
                                    "1": "V ",
                                    "2": "[repo].[RepoObject_reference_union]",
                                    "3": "V ",
                                    "4": "6c90291c-9d61-eb11-84dc-a81e8446d5b0",
                                    "5": "6390291c-9d61-eb11-84dc-a81e8446d5b0"
                                },
                                {
                                    "0": "[repo].[RepoObjectColumn_reference_QueryPlan]",
                                    "1": "V ",
                                    "2": "[repo].[RepoObjectColumn_gross]",
                                    "3": "V ",
                                    "4": "6c90291c-9d61-eb11-84dc-a81e8446d5b0",
                                    "5": "6990291c-9d61-eb11-84dc-a81e8446d5b0"
                                },
                                {
                                    "0": "[repo].[RepoObjectColumn_reference_QueryPlan]",
                                    "1": "V ",
                                    "2": "[repo].[RepoObjectSource_QueryPlan]",
                                    "3": "U ",
                                    "4": "6c90291c-9d61-eb11-84dc-a81e8446d5b0",
                                    "5": "3290291c-9d61-eb11-84dc-a81e8446d5b0"
                                },
                                {
                                    "0": "[repo].[RepoObjectColumn_reference_SqlExpressionDependencies]",
                                    "1": "V ",
                                    "2": "[repo].[RepoObject_reference_union]",
                                    "3": "V ",
                                    "4": "6490291c-9d61-eb11-84dc-a81e8446d5b0",
                                    "5": "6390291c-9d61-eb11-84dc-a81e8446d5b0"
                                },
                                {
                                    "0": "[repo].[RepoObjectColumn_reference_SqlExpressionDependencies]",
                                    "1": "V ",
                                    "2": "[repo_sys].[sql_expression_dependencies]",
                                    "3": "V ",
                                    "4": "6490291c-9d61-eb11-84dc-a81e8446d5b0",
                                    "5": "6190291c-9d61-eb11-84dc-a81e8446d5b0"
                                },
                                {
                                    "0": "[repo].[RepoObjectColumn_reference_SqlModules]",
                                    "1": "V ",
                                    "2": "[repo].[RepoObject]",
                                    "3": "U ",
                                    "4": "d28f8f21-4265-eb11-84dd-a81e8446d5b0",
                                    "5": "eb8f291c-9d61-eb11-84dc-a81e8446d5b0"
                                },
                                {
                                    "0": "[repo].[RepoObjectColumn_reference_SqlModules]",
                                    "1": "V ",
                                    "2": "[repo].[RepoObject_SqlModules_79_reference_union]",
                                    "3": "V ",
                                    "4": "d28f8f21-4265-eb11-84dd-a81e8446d5b0",
                                    "5": "d18f8f21-4265-eb11-84dd-a81e8446d5b0"
                                },
                                {
                                    "0": "[repo].[RepoObjectColumn_reference_SqlModules]",
                                    "1": "V ",
                                    "2": "[repo].[RepoObjectColumn]",
                                    "3": "U ",
                                    "4": "d28f8f21-4265-eb11-84dd-a81e8446d5b0",
                                    "5": "3e90291c-9d61-eb11-84dc-a81e8446d5b0"
                                },
                                {
                                    "0": "[repo].[RepoObjectColumn_reference_union]",
                                    "1": "V ",
                                    "2": "[repo].[RepoObjectColumn_reference_Persistence]",
                                    "3": "V ",
                                    "4": "7590291c-9d61-eb11-84dc-a81e8446d5b0",
                                    "5": "0290291c-9d61-eb11-84dc-a81e8446d5b0"
                                },
                                {
                                    "0": "[repo].[RepoObjectColumn_reference_union]",
                                    "1": "V ",
                                    "2": "[repo].[RepoObjectColumn_reference_SqlExpressionDependencies]",
                                    "3": "V ",
                                    "4": "7590291c-9d61-eb11-84dc-a81e8446d5b0",
                                    "5": "6490291c-9d61-eb11-84dc-a81e8446d5b0"
                                },
                                {
                                    "0": "[repo].[RepoObjectColumn_reference_union]",
                                    "1": "V ",
                                    "2": "[repo].[RepoObjectColumn_reference_SqlModules]",
                                    "3": "V ",
                                    "4": "7590291c-9d61-eb11-84dc-a81e8446d5b0",
                                    "5": "d28f8f21-4265-eb11-84dd-a81e8446d5b0"
                                },
                                {
                                    "0": "[repo].[RepoObjectColumnProperty_sys_repo]",
                                    "1": "V ",
                                    "2": "[repo].[RepoObject]",
                                    "3": "U ",
                                    "4": "5590291c-9d61-eb11-84dc-a81e8446d5b0",
                                    "5": "eb8f291c-9d61-eb11-84dc-a81e8446d5b0"
                                },
                                {
                                    "0": "[repo].[RepoObjectColumnProperty_sys_repo]",
                                    "1": "V ",
                                    "2": "[repo].[RepoObjectColumn]",
                                    "3": "U ",
                                    "4": "5590291c-9d61-eb11-84dc-a81e8446d5b0",
                                    "5": "3e90291c-9d61-eb11-84dc-a81e8446d5b0"
                                },
                                {
                                    "0": "[repo].[RepoObjectColumnProperty_sys_repo]",
                                    "1": "V ",
                                    "2": "[repo].[RepoObjectColumnProperty]",
                                    "3": "U ",
                                    "4": "5590291c-9d61-eb11-84dc-a81e8446d5b0",
                                    "5": "1690291c-9d61-eb11-84dc-a81e8446d5b0"
                                },
                                {
                                    "0": "[repo].[RepoObjectColumnProperty_sys_repo]",
                                    "1": "V ",
                                    "2": "[repo_sys].[ExtendedProperties]",
                                    "3": "V ",
                                    "4": "5590291c-9d61-eb11-84dc-a81e8446d5b0",
                                    "5": "4b90291c-9d61-eb11-84dc-a81e8446d5b0"
                                },
                                {
                                    "0": "[repo].[RepoObjectProperty_sys_repo]",
                                    "1": "V ",
                                    "2": "[repo].[RepoObject]",
                                    "3": "U ",
                                    "4": "5790291c-9d61-eb11-84dc-a81e8446d5b0",
                                    "5": "eb8f291c-9d61-eb11-84dc-a81e8446d5b0"
                                },
                                {
                                    "0": "[repo].[RepoObjectProperty_sys_repo]",
                                    "1": "V ",
                                    "2": "[repo].[RepoObjectProperty]",
                                    "3": "U ",
                                    "4": "5790291c-9d61-eb11-84dc-a81e8446d5b0",
                                    "5": "1090291c-9d61-eb11-84dc-a81e8446d5b0"
                                },
                                {
                                    "0": "[repo].[RepoObjectProperty_sys_repo]",
                                    "1": "V ",
                                    "2": "[repo_sys].[ExtendedProperties]",
                                    "3": "V ",
                                    "4": "5790291c-9d61-eb11-84dc-a81e8446d5b0",
                                    "5": "4b90291c-9d61-eb11-84dc-a81e8446d5b0"
                                },
                                {
                                    "0": "[repo].[SysColumn_RepoObjectColumn_via_guid]",
                                    "1": "V ",
                                    "2": "[repo].[RepoObject]",
                                    "3": "U ",
                                    "4": "5e90291c-9d61-eb11-84dc-a81e8446d5b0",
                                    "5": "eb8f291c-9d61-eb11-84dc-a81e8446d5b0"
                                },
                                {
                                    "0": "[repo].[SysColumn_RepoObjectColumn_via_guid]",
                                    "1": "V ",
                                    "2": "[repo].[RepoObjectColumn]",
                                    "3": "U ",
                                    "4": "5e90291c-9d61-eb11-84dc-a81e8446d5b0",
                                    "5": "3e90291c-9d61-eb11-84dc-a81e8446d5b0"
                                },
                                {
                                    "0": "[repo].[SysColumn_RepoObjectColumn_via_guid]",
                                    "1": "V ",
                                    "2": "[repo_sys].[SysColumn]",
                                    "3": "V ",
                                    "4": "5e90291c-9d61-eb11-84dc-a81e8446d5b0",
                                    "5": "5d90291c-9d61-eb11-84dc-a81e8446d5b0"
                                },
                                {
                                    "0": "[repo].[SysColumn_RepoObjectColumn_via_name]",
                                    "1": "V ",
                                    "2": "[repo].[RepoObject]",
                                    "3": "U ",
                                    "4": "5f90291c-9d61-eb11-84dc-a81e8446d5b0",
                                    "5": "eb8f291c-9d61-eb11-84dc-a81e8446d5b0"
                                },
                                {
                                    "0": "[repo].[SysColumn_RepoObjectColumn_via_name]",
                                    "1": "V ",
                                    "2": "[repo].[RepoObjectColumn]",
                                    "3": "U ",
                                    "4": "5f90291c-9d61-eb11-84dc-a81e8446d5b0",
                                    "5": "3e90291c-9d61-eb11-84dc-a81e8446d5b0"
                                },
                                {
                                    "0": "[repo].[SysColumn_RepoObjectColumn_via_name]",
                                    "1": "V ",
                                    "2": "[repo_sys].[SysColumn]",
                                    "3": "V ",
                                    "4": "5f90291c-9d61-eb11-84dc-a81e8446d5b0",
                                    "5": "5d90291c-9d61-eb11-84dc-a81e8446d5b0"
                                },
                                {
                                    "0": "[repo].[SysObject_RepoObject_via_guid]",
                                    "1": "V ",
                                    "2": "[repo].[RepoObject]",
                                    "3": "U ",
                                    "4": "5b90291c-9d61-eb11-84dc-a81e8446d5b0",
                                    "5": "eb8f291c-9d61-eb11-84dc-a81e8446d5b0"
                                },
                                {
                                    "0": "[repo].[SysObject_RepoObject_via_guid]",
                                    "1": "V ",
                                    "2": "[repo_sys].[SysObject]",
                                    "3": "V ",
                                    "4": "5b90291c-9d61-eb11-84dc-a81e8446d5b0",
                                    "5": "4f90291c-9d61-eb11-84dc-a81e8446d5b0"
                                },
                                {
                                    "0": "[repo].[SysObject_RepoObject_via_name]",
                                    "1": "V ",
                                    "2": "[repo].[RepoObject]",
                                    "3": "U ",
                                    "4": "5990291c-9d61-eb11-84dc-a81e8446d5b0",
                                    "5": "eb8f291c-9d61-eb11-84dc-a81e8446d5b0"
                                },
                                {
                                    "0": "[repo].[SysObject_RepoObject_via_name]",
                                    "1": "V ",
                                    "2": "[repo_sys].[SysObject]",
                                    "3": "V ",
                                    "4": "5990291c-9d61-eb11-84dc-a81e8446d5b0",
                                    "5": "4f90291c-9d61-eb11-84dc-a81e8446d5b0"
                                },
                                {
                                    "0": "[repo].[SysObjectColumn_QueryPlanExpression]",
                                    "1": "V ",
                                    "2": "[repo].[RepoObjectColumn_reference_QueryPlan]",
                                    "3": "V ",
                                    "4": "6d90291c-9d61-eb11-84dc-a81e8446d5b0",
                                    "5": "6c90291c-9d61-eb11-84dc-a81e8446d5b0"
                                },
                                {
                                    "0": "[repo].[type]",
                                    "1": "V ",
                                    "2": "[repo].[spt_values]",
                                    "3": "U ",
                                    "4": "d98f291c-9d61-eb11-84dc-a81e8446d5b0",
                                    "5": "3090291c-9d61-eb11-84dc-a81e8446d5b0"
                                },
                                {
                                    "0": "[repo].[type_level1type_level2type]",
                                    "1": "V ",
                                    "2": "[repo].[type]",
                                    "3": "V ",
                                    "4": "db8f291c-9d61-eb11-84dc-a81e8446d5b0",
                                    "5": "d98f291c-9d61-eb11-84dc-a81e8446d5b0"
                                },
                                {
                                    "0": "[repo].[visjs_EdgeList_object_test01]",
                                    "1": "V ",
                                    "2": "[repo].[RepoObject_reference_SqlExpressionDependencies]",
                                    "3": "V ",
                                    "4": "6590291c-9d61-eb11-84dc-a81e8446d5b0",
                                    "5": "6290291c-9d61-eb11-84dc-a81e8446d5b0"
                                },
                                {
                                    "0": "[repo].[visjs_nodelist_object_test01]",
                                    "1": "V ",
                                    "2": "[repo].[RepoObject]",
                                    "3": "U ",
                                    "4": "0390291c-9d61-eb11-84dc-a81e8446d5b0",
                                    "5": "eb8f291c-9d61-eb11-84dc-a81e8446d5b0"
                                },
                                {
                                    "0": "[repo_sys].[ColumnReference]",
                                    "1": "V ",
                                    "2": "[repo_sys].[SysObject]",
                                    "3": "V ",
                                    "4": "5c90291c-9d61-eb11-84dc-a81e8446d5b0",
                                    "5": "4f90291c-9d61-eb11-84dc-a81e8446d5b0"
                                },
                                {
                                    "0": "[repo_sys].[ExtendedProperties_ParameterForAddUpdateDrop]",
                                    "1": "V ",
                                    "2": "[repo].[type_level1type_level2type]",
                                    "3": "V ",
                                    "4": "4d90291c-9d61-eb11-84dc-a81e8446d5b0",
                                    "5": "db8f291c-9d61-eb11-84dc-a81e8446d5b0"
                                },
                                {
                                    "0": "[repo_sys].[ExtendedProperties_ParameterForAddUpdateDrop]",
                                    "1": "V ",
                                    "2": "[repo_sys].[ExtendedProperties]",
                                    "3": "V ",
                                    "4": "4d90291c-9d61-eb11-84dc-a81e8446d5b0",
                                    "5": "4b90291c-9d61-eb11-84dc-a81e8446d5b0"
                                },
                                {
                                    "0": "[repo_sys].[ForeignKey]",
                                    "1": "V ",
                                    "2": "[repo].[RepoObject]",
                                    "3": "U ",
                                    "4": "a356741b-6373-eb11-84e3-a81e8446d5b0",
                                    "5": "eb8f291c-9d61-eb11-84dc-a81e8446d5b0"
                                },
                                {
                                    "0": "[repo_sys].[ForeignKeyColumn]",
                                    "1": "V ",
                                    "2": "[repo_sys].[ForeignKey]",
                                    "3": "V ",
                                    "4": "0865ae67-bc72-eb11-84e3-a81e8446d5b0",
                                    "5": "a356741b-6373-eb11-84e3-a81e8446d5b0"
                                },
                                {
                                    "0": "[repo_sys].[ForeignKeyColumn]",
                                    "1": "V ",
                                    "2": "[repo_sys].[SysColumn]",
                                    "3": "V ",
                                    "4": "0865ae67-bc72-eb11-84e3-a81e8446d5b0",
                                    "5": "5d90291c-9d61-eb11-84dc-a81e8446d5b0"
                                },
                                {
                                    "0": "[repo_sys].[Index_unique]",
                                    "1": "V ",
                                    "2": "[repo].[RepoObject]",
                                    "3": "U ",
                                    "4": "0890291c-9d61-eb11-84dc-a81e8446d5b0",
                                    "5": "eb8f291c-9d61-eb11-84dc-a81e8446d5b0"
                                },
                                {
                                    "0": "[repo_sys].[IndexColumn_unique]",
                                    "1": "V ",
                                    "2": "[repo].[SysColumn_RepoObjectColumn_via_name]",
                                    "3": "V ",
                                    "4": "6090291c-9d61-eb11-84dc-a81e8446d5b0",
                                    "5": "5f90291c-9d61-eb11-84dc-a81e8446d5b0"
                                },
                                {
                                    "0": "[repo_sys].[IndexColumn_unique]",
                                    "1": "V ",
                                    "2": "[repo].[SysObject_RepoObject_via_name]",
                                    "3": "V ",
                                    "4": "6090291c-9d61-eb11-84dc-a81e8446d5b0",
                                    "5": "5990291c-9d61-eb11-84dc-a81e8446d5b0"
                                },
                                {
                                    "0": "[repo_sys].[RepoObjectReferenced]",
                                    "1": "V ",
                                    "2": "[repo].[RepoObject]",
                                    "3": "U ",
                                    "4": "0990291c-9d61-eb11-84dc-a81e8446d5b0",
                                    "5": "eb8f291c-9d61-eb11-84dc-a81e8446d5b0"
                                },
                                {
                                    "0": "[repo_sys].[RepoObjectReferencing]",
                                    "1": "V ",
                                    "2": "[repo].[RepoObject]",
                                    "3": "U ",
                                    "4": "0a90291c-9d61-eb11-84dc-a81e8446d5b0",
                                    "5": "eb8f291c-9d61-eb11-84dc-a81e8446d5b0"
                                },
                                {
                                    "0": "[repo_sys].[sql_expression_dependencies]",
                                    "1": "V ",
                                    "2": "[repo_sys].[SysColumn]",
                                    "3": "V ",
                                    "4": "6190291c-9d61-eb11-84dc-a81e8446d5b0",
                                    "5": "5d90291c-9d61-eb11-84dc-a81e8446d5b0"
                                },
                                {
                                    "0": "[repo_sys].[sql_expression_dependencies]",
                                    "1": "V ",
                                    "2": "[repo_sys].[SysObject]",
                                    "3": "V ",
                                    "4": "6190291c-9d61-eb11-84dc-a81e8446d5b0",
                                    "5": "4f90291c-9d61-eb11-84dc-a81e8446d5b0"
                                },
                                {
                                    "0": "[repo_sys].[SysColumn]",
                                    "1": "V ",
                                    "2": "[repo_sys].[ExtendedProperties]",
                                    "3": "V ",
                                    "4": "5d90291c-9d61-eb11-84dc-a81e8446d5b0",
                                    "5": "4b90291c-9d61-eb11-84dc-a81e8446d5b0"
                                },
                                {
                                    "0": "[repo_sys].[SysColumn]",
                                    "1": "V ",
                                    "2": "[repo_sys].[SysObject]",
                                    "3": "V ",
                                    "4": "5d90291c-9d61-eb11-84dc-a81e8446d5b0",
                                    "5": "4f90291c-9d61-eb11-84dc-a81e8446d5b0"
                                },
                                {
                                    "0": "[repo_sys].[SysObject]",
                                    "1": "V ",
                                    "2": "[repo_sys].[ExtendedProperties]",
                                    "3": "V ",
                                    "4": "4f90291c-9d61-eb11-84dc-a81e8446d5b0",
                                    "5": "4b90291c-9d61-eb11-84dc-a81e8446d5b0"
                                },
                                {
                                    "0": "[sys_self].[ExtendedProperties_ParameterForAddUpdateDrop]",
                                    "1": "V ",
                                    "2": "[repo].[type_level1type_level2type]",
                                    "3": "V ",
                                    "4": "e58f291c-9d61-eb11-84dc-a81e8446d5b0",
                                    "5": "db8f291c-9d61-eb11-84dc-a81e8446d5b0"
                                },
                                {
                                    "0": "[sys_self].[ExtendedProperties_ParameterForAddUpdateDrop]",
                                    "1": "V ",
                                    "2": "[sys_self].[ExtendedProperties]",
                                    "3": "V ",
                                    "4": "e58f291c-9d61-eb11-84dc-a81e8446d5b0",
                                    "5": "e38f291c-9d61-eb11-84dc-a81e8446d5b0"
                                }
                            ]
                        },
                        "text/html": "<table><tr><th>ReferencingObjectName</th><th>RepoObject_type</th><th>ReferencedObjectName</th><th>RepoObject_type</th><th>RepoObject_guid</th><th>RepoObject_guid</th></tr><tr><td>[graph].[ProcedureInstance]</td><td>U </td><td>[graph].[ProcedureInstance_S]</td><td>V </td><td>2ac1e60f-ed66-eb11-84dd-a81e8446d5b0</td><td>32c1e60f-ed66-eb11-84dd-a81e8446d5b0</td></tr><tr><td>[graph].[ProcedureInstance_S]</td><td>V </td><td>[repo].[ProcedureInstance]</td><td>U </td><td>32c1e60f-ed66-eb11-84dd-a81e8446d5b0</td><td>7534cb25-1e66-eb11-84dd-a81e8446d5b0</td></tr><tr><td>[graph].[ProcedureInstance_S]</td><td>V </td><td>[repo].[RepoObject]</td><td>U </td><td>32c1e60f-ed66-eb11-84dd-a81e8446d5b0</td><td>eb8f291c-9d61-eb11-84dc-a81e8446d5b0</td></tr><tr><td>[graph].[RepoObject]</td><td>U </td><td>[graph].[RepoObject_S]</td><td>V </td><td>88efc212-b764-eb11-84dd-a81e8446d5b0</td><td>a89fcdb3-3265-eb11-84dd-a81e8446d5b0</td></tr><tr><td>[graph].[RepoObject_S]</td><td>V </td><td>[repo].[RepoObject]</td><td>U </td><td>a89fcdb3-3265-eb11-84dd-a81e8446d5b0</td><td>eb8f291c-9d61-eb11-84dc-a81e8446d5b0</td></tr><tr><td>[graph].[RepoObjectColumn]</td><td>U </td><td>[graph].[RepoObjectColumn_S]</td><td>V </td><td>89efc212-b764-eb11-84dd-a81e8446d5b0</td><td>a99fcdb3-3265-eb11-84dd-a81e8446d5b0</td></tr><tr><td>[graph].[RepoObjectColumn_S]</td><td>V </td><td>[repo].[RepoObjectColumn_gross]</td><td>V </td><td>a99fcdb3-3265-eb11-84dd-a81e8446d5b0</td><td>6990291c-9d61-eb11-84dc-a81e8446d5b0</td></tr><tr><td>[repo].[aaa_test_sql_table_column]</td><td>V </td><td>[repo].[RepoObjectColumn]</td><td>U </td><td>b990291c-9d61-eb11-84dc-a81e8446d5b0</td><td>3e90291c-9d61-eb11-84dc-a81e8446d5b0</td></tr><tr><td>[repo].[check_IndexColumn_virtual_referenced_setpoint]</td><td>V </td><td>[repo].[IndexColumn_virtual_referenced_setpoint]</td><td>V </td><td>8990291c-9d61-eb11-84dc-a81e8446d5b0</td><td>7d90291c-9d61-eb11-84dc-a81e8446d5b0</td></tr><tr><td>[repo].[check_IndexColumn_virtual_referenced_setpoint]</td><td>V </td><td>[repo].[RepoObject]</td><td>U </td><td>8990291c-9d61-eb11-84dc-a81e8446d5b0</td><td>eb8f291c-9d61-eb11-84dc-a81e8446d5b0</td></tr><tr><td>[repo].[check_IndexColumn_virtual_referenced_setpoint]</td><td>V </td><td>[repo].[RepoObjectColumn]</td><td>U </td><td>8990291c-9d61-eb11-84dc-a81e8446d5b0</td><td>3e90291c-9d61-eb11-84dc-a81e8446d5b0</td></tr><tr><td>[repo].[ExecutionLog_gross]</td><td>V </td><td>[repo].[ExecutionLog]</td><td>U </td><td>bb90291c-9d61-eb11-84dc-a81e8446d5b0</td><td>1c90291c-9d61-eb11-84dc-a81e8446d5b0</td></tr><tr><td>[repo].[ExecutionLog_parent]</td><td>V </td><td>[repo].[ExecutionLog]</td><td>U </td><td>bd90291c-9d61-eb11-84dc-a81e8446d5b0</td><td>1c90291c-9d61-eb11-84dc-a81e8446d5b0</td></tr><tr><td>[repo].[ExecutionLog_plantUML_Sequence_start_stop]</td><td>V </td><td>[repo].[ExecutionLog]</td><td>U </td><td>bf90291c-9d61-eb11-84dc-a81e8446d5b0</td><td>1c90291c-9d61-eb11-84dc-a81e8446d5b0</td></tr><tr><td>[repo].[ExecutionLog_plantUML_Sequence_start_stop]</td><td>V </td><td>[repo].[ExecutionLog_parent]</td><td>V </td><td>bf90291c-9d61-eb11-84dc-a81e8446d5b0</td><td>bd90291c-9d61-eb11-84dc-a81e8446d5b0</td></tr><tr><td>[repo].[ExtendedProperty_Repo2Sys_level1]</td><td>V </td><td>[repo].[RepoObject]</td><td>U </td><td>55b33a4a-426d-eb11-84e2-a81e8446d5b0</td><td>eb8f291c-9d61-eb11-84dc-a81e8446d5b0</td></tr><tr><td>[repo].[ExtendedProperty_Repo2Sys_level1]</td><td>V </td><td>[repo].[RepoObjectProperty]</td><td>U </td><td>55b33a4a-426d-eb11-84e2-a81e8446d5b0</td><td>1090291c-9d61-eb11-84dc-a81e8446d5b0</td></tr><tr><td>[repo].[ExtendedProperty_Repo2Sys_level1]</td><td>V </td><td>[repo].[type_level1type_level2type]</td><td>V </td><td>55b33a4a-426d-eb11-84e2-a81e8446d5b0</td><td>db8f291c-9d61-eb11-84dc-a81e8446d5b0</td></tr><tr><td>[repo].[ExtendedProperty_Repo2Sys_level2_RepoObject]</td><td>V </td><td>[repo].[RepoObject]</td><td>U </td><td>56b33a4a-426d-eb11-84e2-a81e8446d5b0</td><td>eb8f291c-9d61-eb11-84dc-a81e8446d5b0</td></tr><tr><td>[repo].[ExtendedProperty_Repo2Sys_level2_RepoObject]</td><td>V </td><td>[repo].[RepoObjectProperty]</td><td>U </td><td>56b33a4a-426d-eb11-84e2-a81e8446d5b0</td><td>1090291c-9d61-eb11-84dc-a81e8446d5b0</td></tr><tr><td>[repo].[ExtendedProperty_Repo2Sys_level2_RepoObject]</td><td>V </td><td>[repo].[type_level1type_level2type]</td><td>V </td><td>56b33a4a-426d-eb11-84e2-a81e8446d5b0</td><td>db8f291c-9d61-eb11-84dc-a81e8446d5b0</td></tr><tr><td>[repo].[ExtendedProperty_Repo2Sys_level2_RepoObjectColumn]</td><td>V </td><td>[repo].[RepoObject]</td><td>U </td><td>57b33a4a-426d-eb11-84e2-a81e8446d5b0</td><td>eb8f291c-9d61-eb11-84dc-a81e8446d5b0</td></tr><tr><td>[repo].[ExtendedProperty_Repo2Sys_level2_RepoObjectColumn]</td><td>V </td><td>[repo].[RepoObjectColumn]</td><td>U </td><td>57b33a4a-426d-eb11-84e2-a81e8446d5b0</td><td>3e90291c-9d61-eb11-84dc-a81e8446d5b0</td></tr><tr><td>[repo].[ExtendedProperty_Repo2Sys_level2_RepoObjectColumn]</td><td>V </td><td>[repo].[RepoObjectColumnProperty]</td><td>U </td><td>57b33a4a-426d-eb11-84e2-a81e8446d5b0</td><td>1690291c-9d61-eb11-84dc-a81e8446d5b0</td></tr><tr><td>[repo].[ExtendedProperty_Repo2Sys_level2_RepoObjectColumn]</td><td>V </td><td>[repo].[type_level1type_level2type]</td><td>V </td><td>57b33a4a-426d-eb11-84e2-a81e8446d5b0</td><td>db8f291c-9d61-eb11-84dc-a81e8446d5b0</td></tr><tr><td>[repo].[ExtendedProperty_Repo2Sys_level2_Union]</td><td>V </td><td>[repo].[ExtendedProperty_Repo2Sys_level2_RepoObject]</td><td>V </td><td>58b33a4a-426d-eb11-84e2-a81e8446d5b0</td><td>56b33a4a-426d-eb11-84e2-a81e8446d5b0</td></tr><tr><td>[repo].[ExtendedProperty_Repo2Sys_level2_Union]</td><td>V </td><td>[repo].[ExtendedProperty_Repo2Sys_level2_RepoObjectColumn]</td><td>V </td><td>58b33a4a-426d-eb11-84e2-a81e8446d5b0</td><td>57b33a4a-426d-eb11-84e2-a81e8446d5b0</td></tr><tr><td>[repo].[ForeignKey_Index_guid]</td><td>V </td><td>[repo].[ForeignKey_IndexPattern]</td><td>V </td><td>7f170058-c073-eb11-84e3-a81e8446d5b0</td><td>7e170058-c073-eb11-84e3-a81e8446d5b0</td></tr><tr><td>[repo].[ForeignKey_Index_guid]</td><td>V </td><td>[repo].[Index_gross]</td><td>V </td><td>7f170058-c073-eb11-84e3-a81e8446d5b0</td><td>8790291c-9d61-eb11-84dc-a81e8446d5b0</td></tr><tr><td>[repo].[ForeignKey_Index_guid_union]</td><td>V </td><td>[repo].[ForeignKey_Index_guid]</td><td>V </td><td>81170058-c073-eb11-84e3-a81e8446d5b0</td><td>7f170058-c073-eb11-84e3-a81e8446d5b0</td></tr><tr><td>[repo].[ForeignKey_Index_guid_union]</td><td>V </td><td>[repo].[ForeignKey_virtual_Index_guid]</td><td>V </td><td>81170058-c073-eb11-84e3-a81e8446d5b0</td><td>80170058-c073-eb11-84e3-a81e8446d5b0</td></tr><tr><td>[repo].[ForeignKey_IndexPattern]</td><td>V </td><td>[repo_sys].[ForeignKeyColumn]</td><td>V </td><td>7e170058-c073-eb11-84e3-a81e8446d5b0</td><td>0865ae67-bc72-eb11-84e3-a81e8446d5b0</td></tr><tr><td>[repo].[ForeignKey_virtual_Index_guid]</td><td>V </td><td>[repo].[ForeignKey_virtual]</td><td>U </td><td>80170058-c073-eb11-84e3-a81e8446d5b0</td><td>a456741b-6373-eb11-84e3-a81e8446d5b0</td></tr><tr><td>[repo].[ForeignKey_virtual_Index_guid]</td><td>V </td><td>[repo].[Index_gross]</td><td>V </td><td>80170058-c073-eb11-84e3-a81e8446d5b0</td><td>8790291c-9d61-eb11-84dc-a81e8446d5b0</td></tr><tr><td>[repo].[GeneratorUsp_filter_persistence]</td><td>V </td><td>[repo].[GeneratorUsp]</td><td>U </td><td>df8f291c-9d61-eb11-84dc-a81e8446d5b0</td><td>3890291c-9d61-eb11-84dc-a81e8446d5b0</td></tr><tr><td>[repo].[GeneratorUsp_ParameterList]</td><td>V </td><td>[repo].[GeneratorUspParameter]</td><td>U </td><td>e18f291c-9d61-eb11-84dc-a81e8446d5b0</td><td>4e90291c-9d61-eb11-84dc-a81e8446d5b0</td></tr><tr><td>[repo].[GeneratorUsp_SqlUsp]</td><td>V </td><td>[repo].[GeneratorUsp]</td><td>U </td><td>4990291c-9d61-eb11-84dc-a81e8446d5b0</td><td>3890291c-9d61-eb11-84dc-a81e8446d5b0</td></tr><tr><td>[repo].[GeneratorUsp_SqlUsp]</td><td>V </td><td>[repo].[GeneratorUsp_ParameterList]</td><td>V </td><td>4990291c-9d61-eb11-84dc-a81e8446d5b0</td><td>e18f291c-9d61-eb11-84dc-a81e8446d5b0</td></tr><tr><td>[repo].[GeneratorUsp_SqlUsp]</td><td>V </td><td>[repo].[GeneratorUsp_StepList]</td><td>V </td><td>4990291c-9d61-eb11-84dc-a81e8446d5b0</td><td>4790291c-9d61-eb11-84dc-a81e8446d5b0</td></tr><tr><td>[repo].[GeneratorUsp_StepList]</td><td>V </td><td>[repo].[GeneratorUspStep_Sql]</td><td>V </td><td>4790291c-9d61-eb11-84dc-a81e8446d5b0</td><td>4590291c-9d61-eb11-84dc-a81e8446d5b0</td></tr><tr><td>[repo].[GeneratorUspStep_Persistence]</td><td>V </td><td>[repo].[GeneratorUsp]</td><td>U </td><td>8190291c-9d61-eb11-84dc-a81e8446d5b0</td><td>3890291c-9d61-eb11-84dc-a81e8446d5b0</td></tr><tr><td>[repo].[GeneratorUspStep_Persistence]</td><td>V </td><td>[repo].[Index_ColumList]</td><td>V </td><td>8190291c-9d61-eb11-84dc-a81e8446d5b0</td><td>6890291c-9d61-eb11-84dc-a81e8446d5b0</td></tr><tr><td>[repo].[GeneratorUspStep_Persistence]</td><td>V </td><td>[repo].[RepoObject_gross]</td><td>V </td><td>8190291c-9d61-eb11-84dc-a81e8446d5b0</td><td>7790291c-9d61-eb11-84dc-a81e8446d5b0</td></tr><tr><td>[repo].[GeneratorUspStep_Persistence_IsInactive_setpoint]</td><td>V </td><td>[repo].[GeneratorUsp]</td><td>U </td><td>7f90291c-9d61-eb11-84dc-a81e8446d5b0</td><td>3890291c-9d61-eb11-84dc-a81e8446d5b0</td></tr><tr><td>[repo].[GeneratorUspStep_Persistence_IsInactive_setpoint]</td><td>V </td><td>[repo].[RepoObject_gross]</td><td>V </td><td>7f90291c-9d61-eb11-84dc-a81e8446d5b0</td><td>7790291c-9d61-eb11-84dc-a81e8446d5b0</td></tr><tr><td>[repo].[GeneratorUspStep_Sql]</td><td>V </td><td>[repo].[GeneratorUsp]</td><td>U </td><td>4590291c-9d61-eb11-84dc-a81e8446d5b0</td><td>3890291c-9d61-eb11-84dc-a81e8446d5b0</td></tr><tr><td>[repo].[GeneratorUspStep_Sql]</td><td>V </td><td>[repo].[GeneratorUspStep]</td><td>U </td><td>4590291c-9d61-eb11-84dc-a81e8446d5b0</td><td>5690291c-9d61-eb11-84dc-a81e8446d5b0</td></tr><tr><td>[repo].[Index_ColumList]</td><td>V </td><td>[repo].[IndexColumn_union]</td><td>V </td><td>6890291c-9d61-eb11-84dc-a81e8446d5b0</td><td>6790291c-9d61-eb11-84dc-a81e8446d5b0</td></tr><tr><td>[repo].[Index_gross]</td><td>V </td><td>[repo].[Index_ColumList]</td><td>V </td><td>8790291c-9d61-eb11-84dc-a81e8446d5b0</td><td>6890291c-9d61-eb11-84dc-a81e8446d5b0</td></tr><tr><td>[repo].[Index_gross]</td><td>V </td><td>[repo].[Index_Settings]</td><td>U </td><td>8790291c-9d61-eb11-84dc-a81e8446d5b0</td><td>2090291c-9d61-eb11-84dc-a81e8446d5b0</td></tr><tr><td>[repo].[Index_gross]</td><td>V </td><td>[repo].[Index_union]</td><td>V </td><td>8790291c-9d61-eb11-84dc-a81e8446d5b0</td><td>2590291c-9d61-eb11-84dc-a81e8446d5b0</td></tr><tr><td>[repo].[Index_gross]</td><td>V </td><td>[repo].[RepoObject_gross]</td><td>V </td><td>8790291c-9d61-eb11-84dc-a81e8446d5b0</td><td>7790291c-9d61-eb11-84dc-a81e8446d5b0</td></tr><tr><td>[repo].[Index_IndexPattern]</td><td>V </td><td>[repo].[IndexColumn_union]</td><td>V </td><td>6a90291c-9d61-eb11-84dc-a81e8446d5b0</td><td>6790291c-9d61-eb11-84dc-a81e8446d5b0</td></tr><tr><td>[repo].[Index_referencing_IndexPatternColumnGuid]</td><td>V </td><td>[repo].[IndexColumn_ReferencedReferencing_HasFullColumnsInReferencing_T]</td><td>U </td><td>5ece8eb8-5f62-eb11-84dc-a81e8446d5b0</td><td>ab7ed154-6b62-eb11-84dc-a81e8446d5b0</td></tr><tr><td>[repo].[Index_SqlConstraint_PkUq]</td><td>V </td><td>[repo].[Index_ColumList]</td><td>V </td><td>7190291c-9d61-eb11-84dc-a81e8446d5b0</td><td>6890291c-9d61-eb11-84dc-a81e8446d5b0</td></tr><tr><td>[repo].[Index_SqlConstraint_PkUq]</td><td>V </td><td>[repo].[Index_Settings]</td><td>U </td><td>7190291c-9d61-eb11-84dc-a81e8446d5b0</td><td>2090291c-9d61-eb11-84dc-a81e8446d5b0</td></tr><tr><td>[repo].[Index_SqlConstraint_PkUq]</td><td>V </td><td>[repo].[Index_union]</td><td>V </td><td>7190291c-9d61-eb11-84dc-a81e8446d5b0</td><td>2590291c-9d61-eb11-84dc-a81e8446d5b0</td></tr><tr><td>[repo].[Index_union]</td><td>V </td><td>[repo].[Index_unique_IndexPatternColumnGuid]</td><td>V </td><td>2590291c-9d61-eb11-84dc-a81e8446d5b0</td><td>5fce8eb8-5f62-eb11-84dc-a81e8446d5b0</td></tr><tr><td>[repo].[Index_union]</td><td>V </td><td>[repo].[Index_virtual]</td><td>U </td><td>2590291c-9d61-eb11-84dc-a81e8446d5b0</td><td>3490291c-9d61-eb11-84dc-a81e8446d5b0</td></tr><tr><td>[repo].[Index_union]</td><td>V </td><td>[repo].[Index_virtual_IndexPatternColumnGuid]</td><td>V </td><td>2590291c-9d61-eb11-84dc-a81e8446d5b0</td><td>60ce8eb8-5f62-eb11-84dc-a81e8446d5b0</td></tr><tr><td>[repo].[Index_union]</td><td>V </td><td>[repo_sys].[Index_unique]</td><td>V </td><td>2590291c-9d61-eb11-84dc-a81e8446d5b0</td><td>0890291c-9d61-eb11-84dc-a81e8446d5b0</td></tr><tr><td>[repo].[Index_unique_IndexPatternColumnGuid]</td><td>V </td><td>[repo_sys].[IndexColumn_unique]</td><td>V </td><td>5fce8eb8-5f62-eb11-84dc-a81e8446d5b0</td><td>6090291c-9d61-eb11-84dc-a81e8446d5b0</td></tr><tr><td>[repo].[Index_virtual_IndexPatternColumnGuid]</td><td>V </td><td>[repo].[Index_virtual]</td><td>U </td><td>60ce8eb8-5f62-eb11-84dc-a81e8446d5b0</td><td>3490291c-9d61-eb11-84dc-a81e8446d5b0</td></tr><tr><td>[repo].[Index_virtual_IndexPatternColumnGuid]</td><td>V </td><td>[repo].[IndexColumn_virtual]</td><td>U </td><td>60ce8eb8-5f62-eb11-84dc-a81e8446d5b0</td><td>4a90291c-9d61-eb11-84dc-a81e8446d5b0</td></tr><tr><td>[repo].[Index_virtual_SysObject]</td><td>V </td><td>[repo].[Index_Settings]</td><td>U </td><td>0790291c-9d61-eb11-84dc-a81e8446d5b0</td><td>2090291c-9d61-eb11-84dc-a81e8446d5b0</td></tr><tr><td>[repo].[Index_virtual_SysObject]</td><td>V </td><td>[repo].[Index_virtual]</td><td>U </td><td>0790291c-9d61-eb11-84dc-a81e8446d5b0</td><td>3490291c-9d61-eb11-84dc-a81e8446d5b0</td></tr><tr><td>[repo].[Index_virtual_SysObject]</td><td>V </td><td>[repo].[RepoObject]</td><td>U </td><td>0790291c-9d61-eb11-84dc-a81e8446d5b0</td><td>eb8f291c-9d61-eb11-84dc-a81e8446d5b0</td></tr><tr><td>[repo].[IndexColumn_ReferencedReferencing_HasFullColumnsInReferencing]</td><td>V </td><td>[repo].[IndexColumn_union]</td><td>V </td><td>7b90291c-9d61-eb11-84dc-a81e8446d5b0</td><td>6790291c-9d61-eb11-84dc-a81e8446d5b0</td></tr><tr><td>[repo].[IndexColumn_ReferencedReferencing_HasFullColumnsInReferencing]</td><td>V </td><td>[repo].[RepoObjectColumn]</td><td>U </td><td>7b90291c-9d61-eb11-84dc-a81e8446d5b0</td><td>3e90291c-9d61-eb11-84dc-a81e8446d5b0</td></tr><tr><td>[repo].[IndexColumn_ReferencedReferencing_HasFullColumnsInReferencing]</td><td>V </td><td>[repo].[RepoObjectColumn_reference_union]</td><td>V </td><td>7b90291c-9d61-eb11-84dc-a81e8446d5b0</td><td>7590291c-9d61-eb11-84dc-a81e8446d5b0</td></tr><tr><td>[repo].[IndexColumn_ReferencedReferencing_HasFullColumnsInReferencing_T]</td><td>U </td><td>[repo].[IndexColumn_ReferencedReferencing_HasFullColumnsInReferencing]</td><td>V </td><td>ab7ed154-6b62-eb11-84dc-a81e8446d5b0</td><td>7b90291c-9d61-eb11-84dc-a81e8446d5b0</td></tr><tr><td>[repo].[IndexColumn_union]</td><td>V </td><td>[repo].[IndexColumn_virtual_gross]</td><td>V </td><td>6790291c-9d61-eb11-84dc-a81e8446d5b0</td><td>0690291c-9d61-eb11-84dc-a81e8446d5b0</td></tr><tr><td>[repo].[IndexColumn_union]</td><td>V </td><td>[repo_sys].[IndexColumn_unique]</td><td>V </td><td>6790291c-9d61-eb11-84dc-a81e8446d5b0</td><td>6090291c-9d61-eb11-84dc-a81e8446d5b0</td></tr><tr><td>[repo].[IndexColumn_virtual_gross]</td><td>V </td><td>[repo].[Index_virtual]</td><td>U </td><td>0690291c-9d61-eb11-84dc-a81e8446d5b0</td><td>3490291c-9d61-eb11-84dc-a81e8446d5b0</td></tr><tr><td>[repo].[IndexColumn_virtual_gross]</td><td>V </td><td>[repo].[IndexColumn_virtual]</td><td>U </td><td>0690291c-9d61-eb11-84dc-a81e8446d5b0</td><td>4a90291c-9d61-eb11-84dc-a81e8446d5b0</td></tr><tr><td>[repo].[IndexColumn_virtual_gross]</td><td>V </td><td>[repo].[RepoObject]</td><td>U </td><td>0690291c-9d61-eb11-84dc-a81e8446d5b0</td><td>eb8f291c-9d61-eb11-84dc-a81e8446d5b0</td></tr><tr><td>[repo].[IndexColumn_virtual_gross]</td><td>V </td><td>[repo].[RepoObjectColumn]</td><td>U </td><td>0690291c-9d61-eb11-84dc-a81e8446d5b0</td><td>3e90291c-9d61-eb11-84dc-a81e8446d5b0</td></tr><tr><td>[repo].[IndexColumn_virtual_referenced_setpoint]</td><td>V </td><td>[repo].[Index_virtual]</td><td>U </td><td>7d90291c-9d61-eb11-84dc-a81e8446d5b0</td><td>3490291c-9d61-eb11-84dc-a81e8446d5b0</td></tr><tr><td>[repo].[IndexColumn_virtual_referenced_setpoint]</td><td>V </td><td>[repo].[IndexColumn_ReferencedReferencing_HasFullColumnsInReferencing_T]</td><td>U </td><td>7d90291c-9d61-eb11-84dc-a81e8446d5b0</td><td>ab7ed154-6b62-eb11-84dc-a81e8446d5b0</td></tr><tr><td>[repo].[IndexReferencedReferencing]</td><td>V </td><td>[repo].[Index_union]</td><td>V </td><td>6690291c-9d61-eb11-84dc-a81e8446d5b0</td><td>2590291c-9d61-eb11-84dc-a81e8446d5b0</td></tr><tr><td>[repo].[IndexReferencedReferencing]</td><td>V </td><td>[repo].[Index_virtual]</td><td>U </td><td>6690291c-9d61-eb11-84dc-a81e8446d5b0</td><td>3490291c-9d61-eb11-84dc-a81e8446d5b0</td></tr><tr><td>[repo].[IndexReferencedReferencing]</td><td>V </td><td>[repo].[RepoObject_reference_union]</td><td>V </td><td>6690291c-9d61-eb11-84dc-a81e8446d5b0</td><td>6390291c-9d61-eb11-84dc-a81e8446d5b0</td></tr><tr><td>[repo].[IndexReferencedReferencing_HasFullColumnsInReferencing]</td><td>V </td><td>[repo].[Index_referencing_IndexPatternColumnGuid]</td><td>V </td><td>8590291c-9d61-eb11-84dc-a81e8446d5b0</td><td>5ece8eb8-5f62-eb11-84dc-a81e8446d5b0</td></tr><tr><td>[repo].[IndexReferencedReferencing_HasFullColumnsInReferencing]</td><td>V </td><td>[repo].[IndexColumn_ReferencedReferencing_HasFullColumnsInReferencing_T]</td><td>U </td><td>8590291c-9d61-eb11-84dc-a81e8446d5b0</td><td>ab7ed154-6b62-eb11-84dc-a81e8446d5b0</td></tr><tr><td>[repo].[IndexReferencedReferencing_HasFullColumnsInReferencing]</td><td>V </td><td>[repo].[IndexReferencedReferencing]</td><td>V </td><td>8590291c-9d61-eb11-84dc-a81e8446d5b0</td><td>6690291c-9d61-eb11-84dc-a81e8446d5b0</td></tr><tr><td>[repo].[Match_RepoObject_referenced_UspPersistence]</td><td>V </td><td>[graph].[ReferencedObject]</td><td>U </td><td>1468f544-e466-eb11-84dd-a81e8446d5b0</td><td>8aefc212-b764-eb11-84dd-a81e8446d5b0</td></tr><tr><td>[repo].[Match_RepoObject_referenced_UspPersistence]</td><td>V </td><td>[graph].[RepoObject]</td><td>U </td><td>1468f544-e466-eb11-84dd-a81e8446d5b0</td><td>88efc212-b764-eb11-84dd-a81e8446d5b0</td></tr><tr><td>[repo].[Match_RepoObject_referenced_UspPersistence]</td><td>V </td><td>[repo].[RepoObject_gross]</td><td>V </td><td>1468f544-e466-eb11-84dd-a81e8446d5b0</td><td>7790291c-9d61-eb11-84dc-a81e8446d5b0</td></tr><tr><td>[repo].[ProcedureInstanceDependency_gross]</td><td>V </td><td>[repo].[ProcedureInstance]</td><td>U </td><td>e49d1ac1-9874-eb11-84e3-a81e8446d5b0</td><td>7534cb25-1e66-eb11-84dd-a81e8446d5b0</td></tr><tr><td>[repo].[ProcedureInstanceDependency_gross]</td><td>V </td><td>[repo].[ProcedureInstanceDependency]</td><td>U </td><td>e49d1ac1-9874-eb11-84e3-a81e8446d5b0</td><td>7a34cb25-1e66-eb11-84dd-a81e8446d5b0</td></tr><tr><td>[repo].[ProcedureInstanceDependency_gross]</td><td>V </td><td>[repo].[RepoObject]</td><td>U </td><td>e49d1ac1-9874-eb11-84e3-a81e8446d5b0</td><td>eb8f291c-9d61-eb11-84dc-a81e8446d5b0</td></tr><tr><td>[repo].[PropertyName_RepoObject]</td><td>V </td><td>[repo].[Parameter]</td><td>U </td><td>5db33a4a-426d-eb11-84e2-a81e8446d5b0</td><td>2490291c-9d61-eb11-84dc-a81e8446d5b0</td></tr><tr><td>[repo].[PropertyName_RepoObject]</td><td>V </td><td>[repo].[RepoObjectProperty]</td><td>U </td><td>5db33a4a-426d-eb11-84e2-a81e8446d5b0</td><td>1090291c-9d61-eb11-84dc-a81e8446d5b0</td></tr><tr><td>[repo].[PropertyName_RepoObjectColumn]</td><td>V </td><td>[repo].[Parameter]</td><td>U </td><td>5eb33a4a-426d-eb11-84e2-a81e8446d5b0</td><td>2490291c-9d61-eb11-84dc-a81e8446d5b0</td></tr><tr><td>[repo].[PropertyName_RepoObjectColumn]</td><td>V </td><td>[repo].[RepoObjectColumnProperty]</td><td>U </td><td>5eb33a4a-426d-eb11-84e2-a81e8446d5b0</td><td>1690291c-9d61-eb11-84dc-a81e8446d5b0</td></tr><tr><td>[repo].[RepoObject_ColumnList]</td><td>V </td><td>[repo].[RepoObjectColumn_gross]</td><td>V </td><td>6f90291c-9d61-eb11-84dc-a81e8446d5b0</td><td>6990291c-9d61-eb11-84dc-a81e8446d5b0</td></tr><tr><td>[repo].[RepoObject_gross]</td><td>V </td><td>[repo].[RepoObject]</td><td>U </td><td>7790291c-9d61-eb11-84dc-a81e8446d5b0</td><td>eb8f291c-9d61-eb11-84dc-a81e8446d5b0</td></tr><tr><td>[repo].[RepoObject_gross]</td><td>V </td><td>[repo].[RepoObject_ColumnList]</td><td>V </td><td>7790291c-9d61-eb11-84dc-a81e8446d5b0</td><td>6f90291c-9d61-eb11-84dc-a81e8446d5b0</td></tr><tr><td>[repo].[RepoObject_gross]</td><td>V </td><td>[repo].[RepoObject_persistence]</td><td>U </td><td>7790291c-9d61-eb11-84dc-a81e8446d5b0</td><td>4690291c-9d61-eb11-84dc-a81e8446d5b0</td></tr><tr><td>[repo].[RepoObject_InheritanceType_InheritanceDefinition]</td><td>V </td><td>[repo].[Parameter]</td><td>U </td><td>64b33a4a-426d-eb11-84e2-a81e8446d5b0</td><td>2490291c-9d61-eb11-84dc-a81e8446d5b0</td></tr><tr><td>[repo].[RepoObject_InheritanceType_InheritanceDefinition]</td><td>V </td><td>[repo].[PropertyName_RepoObject]</td><td>V </td><td>64b33a4a-426d-eb11-84e2-a81e8446d5b0</td><td>5db33a4a-426d-eb11-84e2-a81e8446d5b0</td></tr><tr><td>[repo].[RepoObject_InheritanceType_InheritanceDefinition]</td><td>V </td><td>[repo].[RepoObject]</td><td>U </td><td>64b33a4a-426d-eb11-84e2-a81e8446d5b0</td><td>eb8f291c-9d61-eb11-84dc-a81e8446d5b0</td></tr><tr><td>[repo].[RepoObject_InheritanceType_InheritanceDefinition]</td><td>V </td><td>[repo].[RepoObjectProperty]</td><td>U </td><td>64b33a4a-426d-eb11-84e2-a81e8446d5b0</td><td>1090291c-9d61-eb11-84dc-a81e8446d5b0</td></tr><tr><td>[repo].[RepoObject_InheritanceType_resulting_InheritanceDefinition]</td><td>V </td><td>[repo].[RepoObject_InheritanceType_InheritanceDefinition]</td><td>V </td><td>61b33a4a-426d-eb11-84e2-a81e8446d5b0</td><td>64b33a4a-426d-eb11-84e2-a81e8446d5b0</td></tr><tr><td>[repo].[RepoObject_persistence_column]</td><td>V </td><td>[repo].[RepoObject]</td><td>U </td><td>0490291c-9d61-eb11-84dc-a81e8446d5b0</td><td>eb8f291c-9d61-eb11-84dc-a81e8446d5b0</td></tr><tr><td>[repo].[RepoObject_persistence_column]</td><td>V </td><td>[repo].[RepoObject_persistence]</td><td>U </td><td>0490291c-9d61-eb11-84dc-a81e8446d5b0</td><td>4690291c-9d61-eb11-84dc-a81e8446d5b0</td></tr><tr><td>[repo].[RepoObject_persistence_column]</td><td>V </td><td>[repo].[RepoObjectColumn]</td><td>U </td><td>0490291c-9d61-eb11-84dc-a81e8446d5b0</td><td>3e90291c-9d61-eb11-84dc-a81e8446d5b0</td></tr><tr><td>[repo].[RepoObject_persistence_ForInput]</td><td>V </td><td>[repo].[RepoObject]</td><td>U </td><td>88813d1c-6662-eb11-84dc-a81e8446d5b0</td><td>eb8f291c-9d61-eb11-84dc-a81e8446d5b0</td></tr><tr><td>[repo].[RepoObject_persistence_ForInput]</td><td>V </td><td>[repo].[RepoObject_persistence]</td><td>U </td><td>88813d1c-6662-eb11-84dc-a81e8446d5b0</td><td>4690291c-9d61-eb11-84dc-a81e8446d5b0</td></tr><tr><td>[repo].[RepoObject_persistence_ObjectNames]</td><td>V </td><td>[repo].[RepoObject]</td><td>U </td><td>0590291c-9d61-eb11-84dc-a81e8446d5b0</td><td>eb8f291c-9d61-eb11-84dc-a81e8446d5b0</td></tr><tr><td>[repo].[RepoObject_persistence_ObjectNames]</td><td>V </td><td>[repo].[RepoObject_persistence]</td><td>U </td><td>0590291c-9d61-eb11-84dc-a81e8446d5b0</td><td>4690291c-9d61-eb11-84dc-a81e8446d5b0</td></tr><tr><td>[repo].[RepoObject_reference_persistence]</td><td>V </td><td>[repo].[RepoObject]</td><td>U </td><td>f38f291c-9d61-eb11-84dc-a81e8446d5b0</td><td>eb8f291c-9d61-eb11-84dc-a81e8446d5b0</td></tr><tr><td>[repo].[RepoObject_reference_persistence]</td><td>V </td><td>[repo].[RepoObject_persistence]</td><td>U </td><td>f38f291c-9d61-eb11-84dc-a81e8446d5b0</td><td>4690291c-9d61-eb11-84dc-a81e8446d5b0</td></tr><tr><td>[repo].[RepoObject_reference_SqlExpressionDependencies]</td><td>V </td><td>[repo_sys].[sql_expression_dependencies]</td><td>V </td><td>6290291c-9d61-eb11-84dc-a81e8446d5b0</td><td>6190291c-9d61-eb11-84dc-a81e8446d5b0</td></tr><tr><td>[repo].[RepoObject_reference_union]</td><td>V </td><td>[repo].[RepoObject_reference_persistence]</td><td>V </td><td>6390291c-9d61-eb11-84dc-a81e8446d5b0</td><td>f38f291c-9d61-eb11-84dc-a81e8446d5b0</td></tr><tr><td>[repo].[RepoObject_reference_union]</td><td>V </td><td>[repo].[RepoObject_reference_SqlExpressionDependencies]</td><td>V </td><td>6390291c-9d61-eb11-84dc-a81e8446d5b0</td><td>6290291c-9d61-eb11-84dc-a81e8446d5b0</td></tr><tr><td>[repo].[RepoObject_reference_union_node_id]</td><td>V </td><td>[graph].[RepoObject]</td><td>U </td><td>d39dcb84-bf64-eb11-84dd-a81e8446d5b0</td><td>88efc212-b764-eb11-84dd-a81e8446d5b0</td></tr><tr><td>[repo].[RepoObject_reference_union_node_id]</td><td>V </td><td>[repo].[RepoObject_reference_union]</td><td>V </td><td>d39dcb84-bf64-eb11-84dd-a81e8446d5b0</td><td>6390291c-9d61-eb11-84dc-a81e8446d5b0</td></tr><tr><td>[repo].[RepoObject_RequiredRepoObjectMerge]</td><td>V </td><td>[repo].[RepoObject]</td><td>U </td><td>52230f14-2e66-eb11-84dd-a81e8446d5b0</td><td>eb8f291c-9d61-eb11-84dc-a81e8446d5b0</td></tr><tr><td>[repo].[RepoObject_SqlCreateTable]</td><td>V </td><td>[repo].[Index_SqlConstraint_PkUq]</td><td>V </td><td>7990291c-9d61-eb11-84dc-a81e8446d5b0</td><td>7190291c-9d61-eb11-84dc-a81e8446d5b0</td></tr><tr><td>[repo].[RepoObject_SqlCreateTable]</td><td>V </td><td>[repo].[RepoObject]</td><td>U </td><td>7990291c-9d61-eb11-84dc-a81e8446d5b0</td><td>eb8f291c-9d61-eb11-84dc-a81e8446d5b0</td></tr><tr><td>[repo].[RepoObject_SqlCreateTable]</td><td>V </td><td>[repo].[RepoObject_ColumnList]</td><td>V </td><td>7990291c-9d61-eb11-84dc-a81e8446d5b0</td><td>6f90291c-9d61-eb11-84dc-a81e8446d5b0</td></tr><tr><td>[repo].[RepoObject_SqlCreateTable]</td><td>V </td><td>[repo].[RepoObject_gross]</td><td>V </td><td>7990291c-9d61-eb11-84dc-a81e8446d5b0</td><td>7790291c-9d61-eb11-84dc-a81e8446d5b0</td></tr><tr><td>[repo].[RepoObject_SqlCreateTable]</td><td>V </td><td>[repo].[RepoObjectColumn]</td><td>U </td><td>7990291c-9d61-eb11-84dc-a81e8446d5b0</td><td>3e90291c-9d61-eb11-84dc-a81e8446d5b0</td></tr><tr><td>[repo].[RepoObject_SqlModules_10_statement]</td><td>V </td><td>[repo].[RepoObject]</td><td>U </td><td>f58f291c-9d61-eb11-84dc-a81e8446d5b0</td><td>eb8f291c-9d61-eb11-84dc-a81e8446d5b0</td></tr><tr><td>[repo].[RepoObject_SqlModules_10_statement]</td><td>V </td><td>[repo].[RepoObject_SqlModules]</td><td>U </td><td>f58f291c-9d61-eb11-84dc-a81e8446d5b0</td><td>2890291c-9d61-eb11-84dc-a81e8446d5b0</td></tr><tr><td>[repo].[RepoObject_SqlModules_20_statement_children]</td><td>V </td><td>[repo].[RepoObject_SqlModules_10_statement]</td><td>V </td><td>f78f291c-9d61-eb11-84dc-a81e8446d5b0</td><td>f58f291c-9d61-eb11-84dc-a81e8446d5b0</td></tr><tr><td>[repo].[RepoObject_SqlModules_21_statement_children_helper]</td><td>V </td><td>[repo].[RepoObject_SqlModules_20_statement_children]</td><td>V </td><td>f98f291c-9d61-eb11-84dc-a81e8446d5b0</td><td>f78f291c-9d61-eb11-84dc-a81e8446d5b0</td></tr><tr><td>[repo].[RepoObject_SqlModules_22_identifier_alias_AS]</td><td>V </td><td>[repo].[RepoObject_SqlModules_20_statement_children]</td><td>V </td><td>3790291c-9d61-eb11-84dc-a81e8446d5b0</td><td>f78f291c-9d61-eb11-84dc-a81e8446d5b0</td></tr><tr><td>[repo].[RepoObject_SqlModules_23_normalized_wo_nolock]</td><td>V </td><td>[repo].[RepoObject_SqlModules_20_statement_children]</td><td>V </td><td>3990291c-9d61-eb11-84dc-a81e8446d5b0</td><td>f78f291c-9d61-eb11-84dc-a81e8446d5b0</td></tr><tr><td>[repo].[RepoObject_SqlModules_24_IdentifierList_children]</td><td>V </td><td>[repo].[RepoObject_SqlModules_20_statement_children]</td><td>V </td><td>3b90291c-9d61-eb11-84dc-a81e8446d5b0</td><td>f78f291c-9d61-eb11-84dc-a81e8446d5b0</td></tr><tr><td>[repo].[RepoObject_SqlModules_25_IdentifierList_children_IdentifierSplit]</td><td>V </td><td>[repo].[RepoObject_SqlModules_24_IdentifierList_children]</td><td>V </td><td>3d90291c-9d61-eb11-84dc-a81e8446d5b0</td><td>3b90291c-9d61-eb11-84dc-a81e8446d5b0</td></tr><tr><td>[repo].[RepoObject_SqlModules_26_IdentifierList_children_IdentifierSplit_QuoteName]</td><td>V </td><td>[repo].[RepoObject_SqlModules_25_IdentifierList_children_IdentifierSplit]</td><td>V </td><td>0c813ebd-7764-eb11-84dd-a81e8446d5b0</td><td>3d90291c-9d61-eb11-84dc-a81e8446d5b0</td></tr><tr><td>[repo].[RepoObject_SqlModules_29_1_object_is_union]</td><td>V </td><td>[repo].[RepoObject_SqlModules_20_statement_children]</td><td>V </td><td>fb8f291c-9d61-eb11-84dc-a81e8446d5b0</td><td>f78f291c-9d61-eb11-84dc-a81e8446d5b0</td></tr><tr><td>[repo].[RepoObject_SqlModules_29_2_object_is_GroupBy]</td><td>V </td><td>[repo].[RepoObject_SqlModules_20_statement_children]</td><td>V </td><td>fd8f291c-9d61-eb11-84dc-a81e8446d5b0</td><td>f78f291c-9d61-eb11-84dc-a81e8446d5b0</td></tr><tr><td>[repo].[RepoObject_SqlModules_31_object]</td><td>V </td><td>[repo].[RepoObject_SqlModules_21_statement_children_helper]</td><td>V </td><td>fe8f291c-9d61-eb11-84dc-a81e8446d5b0</td><td>f98f291c-9d61-eb11-84dc-a81e8446d5b0</td></tr><tr><td>[repo].[RepoObject_SqlModules_32_ObjectClass]</td><td>V </td><td>[repo].[RepoObject_SqlModules_20_statement_children]</td><td>V </td><td>ff8f291c-9d61-eb11-84dc-a81e8446d5b0</td><td>f78f291c-9d61-eb11-84dc-a81e8446d5b0</td></tr><tr><td>[repo].[RepoObject_SqlModules_33_ObjectNormalized]</td><td>V </td><td>[repo].[RepoObject_SqlModules_20_statement_children]</td><td>V </td><td>0090291c-9d61-eb11-84dc-a81e8446d5b0</td><td>f78f291c-9d61-eb11-84dc-a81e8446d5b0</td></tr><tr><td>[repo].[RepoObject_SqlModules_39_object]</td><td>V </td><td>[repo].[RepoObject]</td><td>U </td><td>0190291c-9d61-eb11-84dc-a81e8446d5b0</td><td>eb8f291c-9d61-eb11-84dc-a81e8446d5b0</td></tr><tr><td>[repo].[RepoObject_SqlModules_39_object]</td><td>V </td><td>[repo].[RepoObject_SqlModules]</td><td>U </td><td>0190291c-9d61-eb11-84dc-a81e8446d5b0</td><td>2890291c-9d61-eb11-84dc-a81e8446d5b0</td></tr><tr><td>[repo].[RepoObject_SqlModules_39_object]</td><td>V </td><td>[repo].[RepoObject_SqlModules_29_1_object_is_union]</td><td>V </td><td>0190291c-9d61-eb11-84dc-a81e8446d5b0</td><td>fb8f291c-9d61-eb11-84dc-a81e8446d5b0</td></tr><tr><td>[repo].[RepoObject_SqlModules_39_object]</td><td>V </td><td>[repo].[RepoObject_SqlModules_29_2_object_is_GroupBy]</td><td>V </td><td>0190291c-9d61-eb11-84dc-a81e8446d5b0</td><td>fd8f291c-9d61-eb11-84dc-a81e8446d5b0</td></tr><tr><td>[repo].[RepoObject_SqlModules_39_object]</td><td>V </td><td>[repo].[RepoObject_SqlModules_31_object]</td><td>V </td><td>0190291c-9d61-eb11-84dc-a81e8446d5b0</td><td>fe8f291c-9d61-eb11-84dc-a81e8446d5b0</td></tr><tr><td>[repo].[RepoObject_SqlModules_39_object]</td><td>V </td><td>[repo].[RepoObject_SqlModules_32_ObjectClass]</td><td>V </td><td>0190291c-9d61-eb11-84dc-a81e8446d5b0</td><td>ff8f291c-9d61-eb11-84dc-a81e8446d5b0</td></tr><tr><td>[repo].[RepoObject_SqlModules_39_object]</td><td>V </td><td>[repo].[RepoObject_SqlModules_33_ObjectNormalized]</td><td>V </td><td>0190291c-9d61-eb11-84dc-a81e8446d5b0</td><td>0090291c-9d61-eb11-84dc-a81e8446d5b0</td></tr><tr><td>[repo].[RepoObject_SqlModules_41_from]</td><td>V </td><td>[repo].[join_type]</td><td>V </td><td>3f90291c-9d61-eb11-84dc-a81e8446d5b0</td><td>c190291c-9d61-eb11-84dc-a81e8446d5b0</td></tr><tr><td>[repo].[RepoObject_SqlModules_41_from]</td><td>V </td><td>[repo].[RepoObject_SqlModules_20_statement_children]</td><td>V </td><td>3f90291c-9d61-eb11-84dc-a81e8446d5b0</td><td>f78f291c-9d61-eb11-84dc-a81e8446d5b0</td></tr><tr><td>[repo].[RepoObject_SqlModules_41_from]</td><td>V </td><td>[repo].[RepoObject_SqlModules_22_identifier_alias_AS]</td><td>V </td><td>3f90291c-9d61-eb11-84dc-a81e8446d5b0</td><td>3790291c-9d61-eb11-84dc-a81e8446d5b0</td></tr><tr><td>[repo].[RepoObject_SqlModules_41_from]</td><td>V </td><td>[repo].[RepoObject_SqlModules_39_object]</td><td>V </td><td>3f90291c-9d61-eb11-84dc-a81e8446d5b0</td><td>0190291c-9d61-eb11-84dc-a81e8446d5b0</td></tr><tr><td>[repo].[RepoObject_SqlModules_41_from_T]</td><td>U </td><td>[repo].[RepoObject_SqlModules_41_from]</td><td>V </td><td>4e4cb4d0-4762-eb11-84dc-a81e8446d5b0</td><td>3f90291c-9d61-eb11-84dc-a81e8446d5b0</td></tr><tr><td>[repo].[RepoObject_SqlModules_42_from_Identifier]</td><td>V </td><td>[repo].[RepoObject_SqlModules_29_1_object_is_union]</td><td>V </td><td>4190291c-9d61-eb11-84dc-a81e8446d5b0</td><td>fb8f291c-9d61-eb11-84dc-a81e8446d5b0</td></tr><tr><td>[repo].[RepoObject_SqlModules_42_from_Identifier]</td><td>V </td><td>[repo].[RepoObject_SqlModules_41_from_T]</td><td>U </td><td>4190291c-9d61-eb11-84dc-a81e8446d5b0</td><td>4e4cb4d0-4762-eb11-84dc-a81e8446d5b0</td></tr><tr><td>[repo].[RepoObject_SqlModules_43_from_Identifier]</td><td>V </td><td>[repo].[RepoObject_SqlModules_42_from_Identifier]</td><td>V </td><td>fe5bfbad-f063-eb11-84dd-a81e8446d5b0</td><td>4190291c-9d61-eb11-84dc-a81e8446d5b0</td></tr><tr><td>[repo].[RepoObject_SqlModules_44_from_Identifier_QuoteName]</td><td>V </td><td>[repo].[RepoObject_SqlModules_43_from_Identifier]</td><td>V </td><td>5c4241cb-fb63-eb11-84dd-a81e8446d5b0</td><td>fe5bfbad-f063-eb11-84dd-a81e8446d5b0</td></tr><tr><td>[repo].[RepoObject_SqlModules_51_Identitfier]</td><td>V </td><td>[repo].[RepoObject_SqlModules_20_statement_children]</td><td>V </td><td>0e813ebd-7764-eb11-84dd-a81e8446d5b0</td><td>f78f291c-9d61-eb11-84dc-a81e8446d5b0</td></tr><tr><td>[repo].[RepoObject_SqlModules_52_Identitfier_QuoteName]</td><td>V </td><td>[repo].[RepoObject_SqlModules_51_Identitfier]</td><td>V </td><td>2e454a02-8364-eb11-84dd-a81e8446d5b0</td><td>0e813ebd-7764-eb11-84dd-a81e8446d5b0</td></tr><tr><td>[repo].[RepoObject_SqlModules_61_SelectIdentifier_Union]</td><td>V </td><td>[repo].[RepoObject_SqlModules_26_IdentifierList_children_IdentifierSplit_QuoteName]</td><td>V </td><td>127e4be1-8f64-eb11-84dd-a81e8446d5b0</td><td>0c813ebd-7764-eb11-84dd-a81e8446d5b0</td></tr><tr><td>[repo].[RepoObject_SqlModules_61_SelectIdentifier_Union]</td><td>V </td><td>[repo].[RepoObject_SqlModules_39_object]</td><td>V </td><td>127e4be1-8f64-eb11-84dd-a81e8446d5b0</td><td>0190291c-9d61-eb11-84dc-a81e8446d5b0</td></tr><tr><td>[repo].[RepoObject_SqlModules_61_SelectIdentifier_Union]</td><td>V </td><td>[repo].[RepoObject_SqlModules_52_Identitfier_QuoteName]</td><td>V </td><td>127e4be1-8f64-eb11-84dd-a81e8446d5b0</td><td>2e454a02-8364-eb11-84dd-a81e8446d5b0</td></tr><tr><td>[repo].[RepoObject_SqlModules_61_SelectIdentifier_Union_T]</td><td>U </td><td>[repo].[RepoObject_SqlModules_61_SelectIdentifier_Union]</td><td>V </td><td>86efc212-b764-eb11-84dd-a81e8446d5b0</td><td>127e4be1-8f64-eb11-84dd-a81e8446d5b0</td></tr><tr><td>[repo].[RepoObject_SqlModules_71_reference_ExpliciteTableAlias]</td><td>V </td><td>[repo].[RepoObject]</td><td>U </td><td>0d813ebd-7764-eb11-84dd-a81e8446d5b0</td><td>eb8f291c-9d61-eb11-84dc-a81e8446d5b0</td></tr><tr><td>[repo].[RepoObject_SqlModules_71_reference_ExpliciteTableAlias]</td><td>V </td><td>[repo].[RepoObject_SqlModules_44_from_Identifier_QuoteName]</td><td>V </td><td>0d813ebd-7764-eb11-84dd-a81e8446d5b0</td><td>5c4241cb-fb63-eb11-84dd-a81e8446d5b0</td></tr><tr><td>[repo].[RepoObject_SqlModules_71_reference_ExpliciteTableAlias]</td><td>V </td><td>[repo].[RepoObject_SqlModules_61_SelectIdentifier_Union_T]</td><td>U </td><td>0d813ebd-7764-eb11-84dd-a81e8446d5b0</td><td>86efc212-b764-eb11-84dd-a81e8446d5b0</td></tr><tr><td>[repo].[RepoObject_SqlModules_71_reference_ExpliciteTableAlias]</td><td>V </td><td>[repo].[RepoObjectColumn]</td><td>U </td><td>0d813ebd-7764-eb11-84dd-a81e8446d5b0</td><td>3e90291c-9d61-eb11-84dc-a81e8446d5b0</td></tr><tr><td>[repo].[RepoObject_SqlModules_72_reference_NoTableAlias]</td><td>V </td><td>[repo].[RepoObject]</td><td>U </td><td>137e4be1-8f64-eb11-84dd-a81e8446d5b0</td><td>eb8f291c-9d61-eb11-84dc-a81e8446d5b0</td></tr><tr><td>[repo].[RepoObject_SqlModules_72_reference_NoTableAlias]</td><td>V </td><td>[repo].[RepoObject_SqlModules_44_from_Identifier_QuoteName]</td><td>V </td><td>137e4be1-8f64-eb11-84dd-a81e8446d5b0</td><td>5c4241cb-fb63-eb11-84dd-a81e8446d5b0</td></tr><tr><td>[repo].[RepoObject_SqlModules_72_reference_NoTableAlias]</td><td>V </td><td>[repo].[RepoObject_SqlModules_61_SelectIdentifier_Union_T]</td><td>U </td><td>137e4be1-8f64-eb11-84dd-a81e8446d5b0</td><td>86efc212-b764-eb11-84dd-a81e8446d5b0</td></tr><tr><td>[repo].[RepoObject_SqlModules_72_reference_NoTableAlias]</td><td>V </td><td>[repo].[RepoObjectColumn]</td><td>U </td><td>137e4be1-8f64-eb11-84dd-a81e8446d5b0</td><td>3e90291c-9d61-eb11-84dc-a81e8446d5b0</td></tr><tr><td>[repo].[RepoObject_SqlModules_79_reference_union]</td><td>V </td><td>[repo].[RepoObject_SqlModules_71_reference_ExpliciteTableAlias]</td><td>V </td><td>d18f8f21-4265-eb11-84dd-a81e8446d5b0</td><td>0d813ebd-7764-eb11-84dd-a81e8446d5b0</td></tr><tr><td>[repo].[RepoObject_SqlModules_79_reference_union]</td><td>V </td><td>[repo].[RepoObject_SqlModules_72_reference_NoTableAlias]</td><td>V </td><td>d18f8f21-4265-eb11-84dd-a81e8446d5b0</td><td>137e4be1-8f64-eb11-84dd-a81e8446d5b0</td></tr><tr><td>[repo].[RepoObject_SqlModules_990_obsolet]</td><td>V </td><td>[repo].[RepoObject_SqlModules]</td><td>U </td><td>c390291c-9d61-eb11-84dc-a81e8446d5b0</td><td>2890291c-9d61-eb11-84dc-a81e8446d5b0</td></tr><tr><td>[repo].[RepoObject_SqlModules_Identitfier]</td><td>V </td><td>[repo].[RepoObject_SqlModules_20_statement_children]</td><td>V </td><td>0f813ebd-7764-eb11-84dd-a81e8446d5b0</td><td>f78f291c-9d61-eb11-84dc-a81e8446d5b0</td></tr><tr><td>[repo].[RepoObject_SqlModules_Repo_Sys]</td><td>V </td><td>[repo].[RepoObject]</td><td>U </td><td>5390291c-9d61-eb11-84dc-a81e8446d5b0</td><td>eb8f291c-9d61-eb11-84dc-a81e8446d5b0</td></tr><tr><td>[repo].[RepoObject_SqlModules_Repo_Sys]</td><td>V </td><td>[repo].[RepoObject_SqlModules]</td><td>U </td><td>5390291c-9d61-eb11-84dc-a81e8446d5b0</td><td>2890291c-9d61-eb11-84dc-a81e8446d5b0</td></tr><tr><td>[repo].[RepoObject_SqlModules_Repo_Sys]</td><td>V </td><td>[repo_sys].[SysObject]</td><td>V </td><td>5390291c-9d61-eb11-84dc-a81e8446d5b0</td><td>4f90291c-9d61-eb11-84dc-a81e8446d5b0</td></tr><tr><td>[repo].[RepoObjectColumn_gross]</td><td>V </td><td>[repo].[IndexColumn_union]</td><td>V </td><td>6990291c-9d61-eb11-84dc-a81e8446d5b0</td><td>6790291c-9d61-eb11-84dc-a81e8446d5b0</td></tr><tr><td>[repo].[RepoObjectColumn_gross]</td><td>V </td><td>[repo].[RepoObject]</td><td>U </td><td>6990291c-9d61-eb11-84dc-a81e8446d5b0</td><td>eb8f291c-9d61-eb11-84dc-a81e8446d5b0</td></tr><tr><td>[repo].[RepoObjectColumn_gross]</td><td>V </td><td>[repo].[RepoObjectColumn]</td><td>U </td><td>6990291c-9d61-eb11-84dc-a81e8446d5b0</td><td>3e90291c-9d61-eb11-84dc-a81e8446d5b0</td></tr><tr><td>[repo].[RepoObjectColumn_HistValidColums_setpoint]</td><td>V </td><td>[repo].[RepoObject_persistence]</td><td>U </td><td>4390291c-9d61-eb11-84dc-a81e8446d5b0</td><td>4690291c-9d61-eb11-84dc-a81e8446d5b0</td></tr><tr><td>[repo].[RepoObjectColumn_InheritanceType_InheritanceDefinition]</td><td>V </td><td>[repo].[Parameter]</td><td>U </td><td>65b33a4a-426d-eb11-84e2-a81e8446d5b0</td><td>2490291c-9d61-eb11-84dc-a81e8446d5b0</td></tr><tr><td>[repo].[RepoObjectColumn_InheritanceType_InheritanceDefinition]</td><td>V </td><td>[repo].[PropertyName_RepoObjectColumn]</td><td>V </td><td>65b33a4a-426d-eb11-84e2-a81e8446d5b0</td><td>5eb33a4a-426d-eb11-84e2-a81e8446d5b0</td></tr><tr><td>[repo].[RepoObjectColumn_InheritanceType_InheritanceDefinition]</td><td>V </td><td>[repo].[RepoObjectColumn]</td><td>U </td><td>65b33a4a-426d-eb11-84e2-a81e8446d5b0</td><td>3e90291c-9d61-eb11-84dc-a81e8446d5b0</td></tr><tr><td>[repo].[RepoObjectColumn_InheritanceType_InheritanceDefinition]</td><td>V </td><td>[repo].[RepoObjectColumnProperty]</td><td>U </td><td>65b33a4a-426d-eb11-84e2-a81e8446d5b0</td><td>1690291c-9d61-eb11-84dc-a81e8446d5b0</td></tr><tr><td>[repo].[RepoObjectColumn_InheritanceType_resulting_InheritanceDefinition]</td><td>V </td><td>[repo].[RepoObjectColumn_InheritanceType_InheritanceDefinition]</td><td>V </td><td>53b33a4a-426d-eb11-84e2-a81e8446d5b0</td><td>65b33a4a-426d-eb11-84e2-a81e8446d5b0</td></tr><tr><td>[repo].[RepoObjectColumn_MissingSource_TypeV]</td><td>V </td><td>[repo].[RepoObject]</td><td>U </td><td>8390291c-9d61-eb11-84dc-a81e8446d5b0</td><td>eb8f291c-9d61-eb11-84dc-a81e8446d5b0</td></tr><tr><td>[repo].[RepoObjectColumn_MissingSource_TypeV]</td><td>V </td><td>[repo].[RepoObjectColumn]</td><td>U </td><td>8390291c-9d61-eb11-84dc-a81e8446d5b0</td><td>3e90291c-9d61-eb11-84dc-a81e8446d5b0</td></tr><tr><td>[repo].[RepoObjectColumn_MissingSource_TypeV]</td><td>V </td><td>[repo].[RepoObjectColumn_reference_union]</td><td>V </td><td>8390291c-9d61-eb11-84dc-a81e8446d5b0</td><td>7590291c-9d61-eb11-84dc-a81e8446d5b0</td></tr><tr><td>[repo].[RepoObjectColumn_reference_BySamePredecessors]</td><td>V </td><td>[repo].[RepoObject_reference_union]</td><td>V </td><td>7390291c-9d61-eb11-84dc-a81e8446d5b0</td><td>6390291c-9d61-eb11-84dc-a81e8446d5b0</td></tr><tr><td>[repo].[RepoObjectColumn_reference_BySamePredecessors]</td><td>V </td><td>[repo].[RepoObjectColumn_reference_FirstResultSet]</td><td>V </td><td>7390291c-9d61-eb11-84dc-a81e8446d5b0</td><td>6b90291c-9d61-eb11-84dc-a81e8446d5b0</td></tr><tr><td>[repo].[RepoObjectColumn_reference_FirstResultSet]</td><td>V </td><td>[repo].[RepoObject]</td><td>U </td><td>6b90291c-9d61-eb11-84dc-a81e8446d5b0</td><td>eb8f291c-9d61-eb11-84dc-a81e8446d5b0</td></tr><tr><td>[repo].[RepoObjectColumn_reference_FirstResultSet]</td><td>V </td><td>[repo].[RepoObject_reference_union]</td><td>V </td><td>6b90291c-9d61-eb11-84dc-a81e8446d5b0</td><td>6390291c-9d61-eb11-84dc-a81e8446d5b0</td></tr><tr><td>[repo].[RepoObjectColumn_reference_FirstResultSet]</td><td>V </td><td>[repo].[RepoObjectColumn_gross]</td><td>V </td><td>6b90291c-9d61-eb11-84dc-a81e8446d5b0</td><td>6990291c-9d61-eb11-84dc-a81e8446d5b0</td></tr><tr><td>[repo].[RepoObjectColumn_reference_FirstResultSet]</td><td>V </td><td>[repo].[RepoObjectSource_FirstResultSet]</td><td>U </td><td>6b90291c-9d61-eb11-84dc-a81e8446d5b0</td><td>2c90291c-9d61-eb11-84dc-a81e8446d5b0</td></tr><tr><td>[repo].[RepoObjectColumn_reference_Persistence]</td><td>V </td><td>[repo].[RepoObject]</td><td>U </td><td>0290291c-9d61-eb11-84dc-a81e8446d5b0</td><td>eb8f291c-9d61-eb11-84dc-a81e8446d5b0</td></tr><tr><td>[repo].[RepoObjectColumn_reference_Persistence]</td><td>V </td><td>[repo].[RepoObject_persistence]</td><td>U </td><td>0290291c-9d61-eb11-84dc-a81e8446d5b0</td><td>4690291c-9d61-eb11-84dc-a81e8446d5b0</td></tr><tr><td>[repo].[RepoObjectColumn_reference_Persistence]</td><td>V </td><td>[repo].[RepoObjectColumn]</td><td>U </td><td>0290291c-9d61-eb11-84dc-a81e8446d5b0</td><td>3e90291c-9d61-eb11-84dc-a81e8446d5b0</td></tr><tr><td>[repo].[RepoObjectColumn_reference_QueryPlan]</td><td>V </td><td>[repo].[RepoObject]</td><td>U </td><td>6c90291c-9d61-eb11-84dc-a81e8446d5b0</td><td>eb8f291c-9d61-eb11-84dc-a81e8446d5b0</td></tr><tr><td>[repo].[RepoObjectColumn_reference_QueryPlan]</td><td>V </td><td>[repo].[RepoObject_reference_union]</td><td>V </td><td>6c90291c-9d61-eb11-84dc-a81e8446d5b0</td><td>6390291c-9d61-eb11-84dc-a81e8446d5b0</td></tr><tr><td>[repo].[RepoObjectColumn_reference_QueryPlan]</td><td>V </td><td>[repo].[RepoObjectColumn_gross]</td><td>V </td><td>6c90291c-9d61-eb11-84dc-a81e8446d5b0</td><td>6990291c-9d61-eb11-84dc-a81e8446d5b0</td></tr><tr><td>[repo].[RepoObjectColumn_reference_QueryPlan]</td><td>V </td><td>[repo].[RepoObjectSource_QueryPlan]</td><td>U </td><td>6c90291c-9d61-eb11-84dc-a81e8446d5b0</td><td>3290291c-9d61-eb11-84dc-a81e8446d5b0</td></tr><tr><td>[repo].[RepoObjectColumn_reference_SqlExpressionDependencies]</td><td>V </td><td>[repo].[RepoObject_reference_union]</td><td>V </td><td>6490291c-9d61-eb11-84dc-a81e8446d5b0</td><td>6390291c-9d61-eb11-84dc-a81e8446d5b0</td></tr><tr><td>[repo].[RepoObjectColumn_reference_SqlExpressionDependencies]</td><td>V </td><td>[repo_sys].[sql_expression_dependencies]</td><td>V </td><td>6490291c-9d61-eb11-84dc-a81e8446d5b0</td><td>6190291c-9d61-eb11-84dc-a81e8446d5b0</td></tr><tr><td>[repo].[RepoObjectColumn_reference_SqlModules]</td><td>V </td><td>[repo].[RepoObject]</td><td>U </td><td>d28f8f21-4265-eb11-84dd-a81e8446d5b0</td><td>eb8f291c-9d61-eb11-84dc-a81e8446d5b0</td></tr><tr><td>[repo].[RepoObjectColumn_reference_SqlModules]</td><td>V </td><td>[repo].[RepoObject_SqlModules_79_reference_union]</td><td>V </td><td>d28f8f21-4265-eb11-84dd-a81e8446d5b0</td><td>d18f8f21-4265-eb11-84dd-a81e8446d5b0</td></tr><tr><td>[repo].[RepoObjectColumn_reference_SqlModules]</td><td>V </td><td>[repo].[RepoObjectColumn]</td><td>U </td><td>d28f8f21-4265-eb11-84dd-a81e8446d5b0</td><td>3e90291c-9d61-eb11-84dc-a81e8446d5b0</td></tr><tr><td>[repo].[RepoObjectColumn_reference_union]</td><td>V </td><td>[repo].[RepoObjectColumn_reference_Persistence]</td><td>V </td><td>7590291c-9d61-eb11-84dc-a81e8446d5b0</td><td>0290291c-9d61-eb11-84dc-a81e8446d5b0</td></tr><tr><td>[repo].[RepoObjectColumn_reference_union]</td><td>V </td><td>[repo].[RepoObjectColumn_reference_SqlExpressionDependencies]</td><td>V </td><td>7590291c-9d61-eb11-84dc-a81e8446d5b0</td><td>6490291c-9d61-eb11-84dc-a81e8446d5b0</td></tr><tr><td>[repo].[RepoObjectColumn_reference_union]</td><td>V </td><td>[repo].[RepoObjectColumn_reference_SqlModules]</td><td>V </td><td>7590291c-9d61-eb11-84dc-a81e8446d5b0</td><td>d28f8f21-4265-eb11-84dd-a81e8446d5b0</td></tr><tr><td>[repo].[RepoObjectColumnProperty_sys_repo]</td><td>V </td><td>[repo].[RepoObject]</td><td>U </td><td>5590291c-9d61-eb11-84dc-a81e8446d5b0</td><td>eb8f291c-9d61-eb11-84dc-a81e8446d5b0</td></tr><tr><td>[repo].[RepoObjectColumnProperty_sys_repo]</td><td>V </td><td>[repo].[RepoObjectColumn]</td><td>U </td><td>5590291c-9d61-eb11-84dc-a81e8446d5b0</td><td>3e90291c-9d61-eb11-84dc-a81e8446d5b0</td></tr><tr><td>[repo].[RepoObjectColumnProperty_sys_repo]</td><td>V </td><td>[repo].[RepoObjectColumnProperty]</td><td>U </td><td>5590291c-9d61-eb11-84dc-a81e8446d5b0</td><td>1690291c-9d61-eb11-84dc-a81e8446d5b0</td></tr><tr><td>[repo].[RepoObjectColumnProperty_sys_repo]</td><td>V </td><td>[repo_sys].[ExtendedProperties]</td><td>V </td><td>5590291c-9d61-eb11-84dc-a81e8446d5b0</td><td>4b90291c-9d61-eb11-84dc-a81e8446d5b0</td></tr><tr><td>[repo].[RepoObjectProperty_sys_repo]</td><td>V </td><td>[repo].[RepoObject]</td><td>U </td><td>5790291c-9d61-eb11-84dc-a81e8446d5b0</td><td>eb8f291c-9d61-eb11-84dc-a81e8446d5b0</td></tr><tr><td>[repo].[RepoObjectProperty_sys_repo]</td><td>V </td><td>[repo].[RepoObjectProperty]</td><td>U </td><td>5790291c-9d61-eb11-84dc-a81e8446d5b0</td><td>1090291c-9d61-eb11-84dc-a81e8446d5b0</td></tr><tr><td>[repo].[RepoObjectProperty_sys_repo]</td><td>V </td><td>[repo_sys].[ExtendedProperties]</td><td>V </td><td>5790291c-9d61-eb11-84dc-a81e8446d5b0</td><td>4b90291c-9d61-eb11-84dc-a81e8446d5b0</td></tr><tr><td>[repo].[SysColumn_RepoObjectColumn_via_guid]</td><td>V </td><td>[repo].[RepoObject]</td><td>U </td><td>5e90291c-9d61-eb11-84dc-a81e8446d5b0</td><td>eb8f291c-9d61-eb11-84dc-a81e8446d5b0</td></tr><tr><td>[repo].[SysColumn_RepoObjectColumn_via_guid]</td><td>V </td><td>[repo].[RepoObjectColumn]</td><td>U </td><td>5e90291c-9d61-eb11-84dc-a81e8446d5b0</td><td>3e90291c-9d61-eb11-84dc-a81e8446d5b0</td></tr><tr><td>[repo].[SysColumn_RepoObjectColumn_via_guid]</td><td>V </td><td>[repo_sys].[SysColumn]</td><td>V </td><td>5e90291c-9d61-eb11-84dc-a81e8446d5b0</td><td>5d90291c-9d61-eb11-84dc-a81e8446d5b0</td></tr><tr><td>[repo].[SysColumn_RepoObjectColumn_via_name]</td><td>V </td><td>[repo].[RepoObject]</td><td>U </td><td>5f90291c-9d61-eb11-84dc-a81e8446d5b0</td><td>eb8f291c-9d61-eb11-84dc-a81e8446d5b0</td></tr><tr><td>[repo].[SysColumn_RepoObjectColumn_via_name]</td><td>V </td><td>[repo].[RepoObjectColumn]</td><td>U </td><td>5f90291c-9d61-eb11-84dc-a81e8446d5b0</td><td>3e90291c-9d61-eb11-84dc-a81e8446d5b0</td></tr><tr><td>[repo].[SysColumn_RepoObjectColumn_via_name]</td><td>V </td><td>[repo_sys].[SysColumn]</td><td>V </td><td>5f90291c-9d61-eb11-84dc-a81e8446d5b0</td><td>5d90291c-9d61-eb11-84dc-a81e8446d5b0</td></tr><tr><td>[repo].[SysObject_RepoObject_via_guid]</td><td>V </td><td>[repo].[RepoObject]</td><td>U </td><td>5b90291c-9d61-eb11-84dc-a81e8446d5b0</td><td>eb8f291c-9d61-eb11-84dc-a81e8446d5b0</td></tr><tr><td>[repo].[SysObject_RepoObject_via_guid]</td><td>V </td><td>[repo_sys].[SysObject]</td><td>V </td><td>5b90291c-9d61-eb11-84dc-a81e8446d5b0</td><td>4f90291c-9d61-eb11-84dc-a81e8446d5b0</td></tr><tr><td>[repo].[SysObject_RepoObject_via_name]</td><td>V </td><td>[repo].[RepoObject]</td><td>U </td><td>5990291c-9d61-eb11-84dc-a81e8446d5b0</td><td>eb8f291c-9d61-eb11-84dc-a81e8446d5b0</td></tr><tr><td>[repo].[SysObject_RepoObject_via_name]</td><td>V </td><td>[repo_sys].[SysObject]</td><td>V </td><td>5990291c-9d61-eb11-84dc-a81e8446d5b0</td><td>4f90291c-9d61-eb11-84dc-a81e8446d5b0</td></tr><tr><td>[repo].[SysObjectColumn_QueryPlanExpression]</td><td>V </td><td>[repo].[RepoObjectColumn_reference_QueryPlan]</td><td>V </td><td>6d90291c-9d61-eb11-84dc-a81e8446d5b0</td><td>6c90291c-9d61-eb11-84dc-a81e8446d5b0</td></tr><tr><td>[repo].[type]</td><td>V </td><td>[repo].[spt_values]</td><td>U </td><td>d98f291c-9d61-eb11-84dc-a81e8446d5b0</td><td>3090291c-9d61-eb11-84dc-a81e8446d5b0</td></tr><tr><td>[repo].[type_level1type_level2type]</td><td>V </td><td>[repo].[type]</td><td>V </td><td>db8f291c-9d61-eb11-84dc-a81e8446d5b0</td><td>d98f291c-9d61-eb11-84dc-a81e8446d5b0</td></tr><tr><td>[repo].[visjs_EdgeList_object_test01]</td><td>V </td><td>[repo].[RepoObject_reference_SqlExpressionDependencies]</td><td>V </td><td>6590291c-9d61-eb11-84dc-a81e8446d5b0</td><td>6290291c-9d61-eb11-84dc-a81e8446d5b0</td></tr><tr><td>[repo].[visjs_nodelist_object_test01]</td><td>V </td><td>[repo].[RepoObject]</td><td>U </td><td>0390291c-9d61-eb11-84dc-a81e8446d5b0</td><td>eb8f291c-9d61-eb11-84dc-a81e8446d5b0</td></tr><tr><td>[repo_sys].[ColumnReference]</td><td>V </td><td>[repo_sys].[SysObject]</td><td>V </td><td>5c90291c-9d61-eb11-84dc-a81e8446d5b0</td><td>4f90291c-9d61-eb11-84dc-a81e8446d5b0</td></tr><tr><td>[repo_sys].[ExtendedProperties_ParameterForAddUpdateDrop]</td><td>V </td><td>[repo].[type_level1type_level2type]</td><td>V </td><td>4d90291c-9d61-eb11-84dc-a81e8446d5b0</td><td>db8f291c-9d61-eb11-84dc-a81e8446d5b0</td></tr><tr><td>[repo_sys].[ExtendedProperties_ParameterForAddUpdateDrop]</td><td>V </td><td>[repo_sys].[ExtendedProperties]</td><td>V </td><td>4d90291c-9d61-eb11-84dc-a81e8446d5b0</td><td>4b90291c-9d61-eb11-84dc-a81e8446d5b0</td></tr><tr><td>[repo_sys].[ForeignKey]</td><td>V </td><td>[repo].[RepoObject]</td><td>U </td><td>a356741b-6373-eb11-84e3-a81e8446d5b0</td><td>eb8f291c-9d61-eb11-84dc-a81e8446d5b0</td></tr><tr><td>[repo_sys].[ForeignKeyColumn]</td><td>V </td><td>[repo_sys].[ForeignKey]</td><td>V </td><td>0865ae67-bc72-eb11-84e3-a81e8446d5b0</td><td>a356741b-6373-eb11-84e3-a81e8446d5b0</td></tr><tr><td>[repo_sys].[ForeignKeyColumn]</td><td>V </td><td>[repo_sys].[SysColumn]</td><td>V </td><td>0865ae67-bc72-eb11-84e3-a81e8446d5b0</td><td>5d90291c-9d61-eb11-84dc-a81e8446d5b0</td></tr><tr><td>[repo_sys].[Index_unique]</td><td>V </td><td>[repo].[RepoObject]</td><td>U </td><td>0890291c-9d61-eb11-84dc-a81e8446d5b0</td><td>eb8f291c-9d61-eb11-84dc-a81e8446d5b0</td></tr><tr><td>[repo_sys].[IndexColumn_unique]</td><td>V </td><td>[repo].[SysColumn_RepoObjectColumn_via_name]</td><td>V </td><td>6090291c-9d61-eb11-84dc-a81e8446d5b0</td><td>5f90291c-9d61-eb11-84dc-a81e8446d5b0</td></tr><tr><td>[repo_sys].[IndexColumn_unique]</td><td>V </td><td>[repo].[SysObject_RepoObject_via_name]</td><td>V </td><td>6090291c-9d61-eb11-84dc-a81e8446d5b0</td><td>5990291c-9d61-eb11-84dc-a81e8446d5b0</td></tr><tr><td>[repo_sys].[RepoObjectReferenced]</td><td>V </td><td>[repo].[RepoObject]</td><td>U </td><td>0990291c-9d61-eb11-84dc-a81e8446d5b0</td><td>eb8f291c-9d61-eb11-84dc-a81e8446d5b0</td></tr><tr><td>[repo_sys].[RepoObjectReferencing]</td><td>V </td><td>[repo].[RepoObject]</td><td>U </td><td>0a90291c-9d61-eb11-84dc-a81e8446d5b0</td><td>eb8f291c-9d61-eb11-84dc-a81e8446d5b0</td></tr><tr><td>[repo_sys].[sql_expression_dependencies]</td><td>V </td><td>[repo_sys].[SysColumn]</td><td>V </td><td>6190291c-9d61-eb11-84dc-a81e8446d5b0</td><td>5d90291c-9d61-eb11-84dc-a81e8446d5b0</td></tr><tr><td>[repo_sys].[sql_expression_dependencies]</td><td>V </td><td>[repo_sys].[SysObject]</td><td>V </td><td>6190291c-9d61-eb11-84dc-a81e8446d5b0</td><td>4f90291c-9d61-eb11-84dc-a81e8446d5b0</td></tr><tr><td>[repo_sys].[SysColumn]</td><td>V </td><td>[repo_sys].[ExtendedProperties]</td><td>V </td><td>5d90291c-9d61-eb11-84dc-a81e8446d5b0</td><td>4b90291c-9d61-eb11-84dc-a81e8446d5b0</td></tr><tr><td>[repo_sys].[SysColumn]</td><td>V </td><td>[repo_sys].[SysObject]</td><td>V </td><td>5d90291c-9d61-eb11-84dc-a81e8446d5b0</td><td>4f90291c-9d61-eb11-84dc-a81e8446d5b0</td></tr><tr><td>[repo_sys].[SysObject]</td><td>V </td><td>[repo_sys].[ExtendedProperties]</td><td>V </td><td>4f90291c-9d61-eb11-84dc-a81e8446d5b0</td><td>4b90291c-9d61-eb11-84dc-a81e8446d5b0</td></tr><tr><td>[sys_self].[ExtendedProperties_ParameterForAddUpdateDrop]</td><td>V </td><td>[repo].[type_level1type_level2type]</td><td>V </td><td>e58f291c-9d61-eb11-84dc-a81e8446d5b0</td><td>db8f291c-9d61-eb11-84dc-a81e8446d5b0</td></tr><tr><td>[sys_self].[ExtendedProperties_ParameterForAddUpdateDrop]</td><td>V </td><td>[sys_self].[ExtendedProperties]</td><td>V </td><td>e58f291c-9d61-eb11-84dc-a81e8446d5b0</td><td>e38f291c-9d61-eb11-84dc-a81e8446d5b0</td></tr></table>"
                    },
                    "metadata": {}
                }
            ],
            "execution_count": 2
        },
        {
            "cell_type": "markdown",
            "source": [
                "all connections between nodes, not only neighbors, shown as `A->B->C`\r\n",
                "\r\n",
                "check referenced objects with `MATCH(SHORTEST_PATH(Object1(-(referenced)->Object2)+))`"
            ],
            "metadata": {
                "azdata_cell_guid": "2c4942e0-721b-45f0-8b9c-6e02f85c0912"
            }
        },
        {
            "cell_type": "code",
            "source": [
                "Select\n",
                "    *\n",
                "From\n",
                "(\n",
                "    Select\n",
                "        Object1.[RepoObject_fullname]                                               As StartingNode\n",
                "      , Count ( Object2.[RepoObject_fullname] ) WITHIN Group(GRAPH PATH)            As levels\n",
                "      , Last_Value ( Object2.[RepoObject_fullname] ) WITHIN Group(GRAPH PATH)       As LastNode\n",
                "      , String_Agg ( Object2.[RepoObject_fullname], '->' ) WITHIN Group(GRAPH PATH) As ListNode\n",
                "      , String_Agg ( Platzhalter, '' ) WITHIN Group(GRAPH PATH)                            As List2\n",
                "    -- , Object1.[RepoObject_fullname]                                             As ReferencingObjectName\n",
                "    From\n",
                "        [graph].[RepoObject] As Object1\n",
                "      , [graph].[ReferencedObject] For PATH As referenced\n",
                "      , [graph].[RepoObject] For PATH As Object2\n",
                "      , '>'  As Platzhalter\n",
                "    Where MATCH(\n",
                "        SHORTEST_PATH(Object1(-(referenced)->Object2)+))\n",
                "        And Object1.[RepoObject_type] In\n",
                "            ( 'u', 'v' )\n",
                ") T1\n",
                "Order By\n",
                "    StartingNode\n",
                "  , ListNode"
            ],
            "metadata": {
                "azdata_cell_guid": "4126ccba-2ba4-4a76-b6bd-71ea268556ef"
            },
            "outputs": [
                {
                    "output_type": "error",
                    "ename": "",
                    "evalue": "Msg 102, Level 15, State 1, Line 16\r\nIncorrect syntax near '>'.",
                    "traceback": []
                },
                {
                    "output_type": "display_data",
                    "data": {
                        "text/html": "Total execution time: 00:00:00.006"
                    },
                    "metadata": {}
                }
            ],
            "execution_count": 4
        },
        {
            "cell_type": "markdown",
            "source": [
                "Dependencies between persistence tables"
            ],
            "metadata": {
                "azdata_cell_guid": "b0efd95f-c360-4aeb-9a77-25d9b2d5e6b7"
            }
        },
        {
            "cell_type": "code",
            "source": [
                "Select\r\n",
                "    Q.FirstNode\r\n",
                "  , Q.FirstNodeName\r\n",
                "  , Q.LastNode\r\n",
                "  , Q.LastNodeName\r\n",
                "  , Q.ListNodeName\r\n",
                "  , ro1.[usp_persistence_RepoObject_guid] As First_usp_persistence_RepoObject_guid\r\n",
                "  , ro2.[usp_persistence_RepoObject_guid] As Last_usp_persistence_RepoObject_guid\r\n",
                "  , ro1.[usp_persistence_name]            As First_usp_persistence_name\r\n",
                "  , ro2.[usp_persistence_name]            As Last_usp_persistence_name\r\n",
                "From\r\n",
                "(\r\n",
                "    Select\r\n",
                "        Object1.[RepoObject_guid]                                                 As FirstNode\r\n",
                "      , Object1.[RepoObject_fullname]                                             As FirstNodeName\r\n",
                "      , String_Agg (Object2.[RepoObject_fullname], '->') WITHIN Group(GRAPH PATH) As ListNodeName\r\n",
                "      , Last_Value (Object2.[RepoObject_guid]) WITHIN Group(GRAPH PATH)           As LastNode\r\n",
                "      , Last_Value (Object2.[RepoObject_fullname]) WITHIN Group(GRAPH PATH)       As LastNodeName\r\n",
                "    From\r\n",
                "        [graph].[RepoObject] As Object1\r\n",
                "      , [graph].[ReferencedObject] For PATH As referenced\r\n",
                "      , [graph].[RepoObject] For PATH As Object2\r\n",
                "    Where MATCH(\r\n",
                "        SHORTEST_PATH(Object1(-(referenced)->Object2)+))\r\n",
                "        And Object1.[RepoObject_type] In ( 'u', 'v' )\r\n",
                ")                                       As Q\r\n",
                "    Left Join [repo].[RepoObject_gross] ro1\r\n",
                "        On ro1.RepoObject_guid = Q.FirstNode\r\n",
                "    Left Join [repo].[RepoObject_gross] ro2\r\n",
                "        On ro2.RepoObject_guid = Q.LastNode\r\n",
                "Where\r\n",
                "    ro1.[is_persistence] = 1\r\n",
                "    And ro2.[is_persistence] = 1\r\n",
                ""
            ],
            "metadata": {
                "azdata_cell_guid": "3bd16cc4-b4bd-4cbe-a9d5-0cd377ab1523"
            },
            "outputs": [
                {
                    "output_type": "display_data",
                    "data": {
                        "text/html": "(2 rows affected)"
                    },
                    "metadata": {}
                },
                {
                    "output_type": "display_data",
                    "data": {
                        "text/html": "Total execution time: 00:00:00.488"
                    },
                    "metadata": {}
                },
                {
                    "output_type": "execute_result",
                    "execution_count": 2,
                    "data": {
                        "application/vnd.dataresource+json": {
                            "schema": {
                                "fields": [
                                    {
                                        "name": "FirstNode"
                                    },
                                    {
                                        "name": "FirstNodeName"
                                    },
                                    {
                                        "name": "LastNode"
                                    },
                                    {
                                        "name": "LastNodeName"
                                    },
                                    {
                                        "name": "ListNodeName"
                                    },
                                    {
                                        "name": "usp_persistence_RepoObject_guid"
                                    },
                                    {
                                        "name": "usp_persistence_RepoObject_guid"
                                    },
                                    {
                                        "name": "usp_persistence_name"
                                    },
                                    {
                                        "name": "usp_persistence_name"
                                    }
                                ]
                            },
                            "data": [
                                {
                                    "0": "ab7ed154-6b62-eb11-84dc-a81e8446d5b0",
                                    "1": "[repo].[IndexColumn_ReferencedReferencing_HasFullColumnsInReferencing_T]",
                                    "2": "86efc212-b764-eb11-84dd-a81e8446d5b0",
                                    "3": "[repo].[RepoObject_SqlModules_61_SelectIdentifier_Union_T]",
                                    "4": "[repo].[IndexColumn_ReferencedReferencing_HasFullColumnsInReferencing]->[repo].[RepoObjectColumn_reference_union]->[repo].[RepoObjectColumn_reference_SqlModules]->[repo].[RepoObject_SqlModules_79_reference_union]->[repo].[RepoObject_SqlModules_71_reference_ExpliciteTableAlias]->[repo].[RepoObject_SqlModules_61_SelectIdentifier_Union_T]",
                                    "5": "ac7ed154-6b62-eb11-84dc-a81e8446d5b0",
                                    "6": "87efc212-b764-eb11-84dd-a81e8446d5b0",
                                    "7": "usp_PERSIST_IndexColumn_ReferencedReferencing_HasFullColumnsInReferencing_T",
                                    "8": "usp_PERSIST_RepoObject_SqlModules_61_SelectIdentifier_Union_T"
                                },
                                {
                                    "0": "ab7ed154-6b62-eb11-84dc-a81e8446d5b0",
                                    "1": "[repo].[IndexColumn_ReferencedReferencing_HasFullColumnsInReferencing_T]",
                                    "2": "4e4cb4d0-4762-eb11-84dc-a81e8446d5b0",
                                    "3": "[repo].[RepoObject_SqlModules_41_from_T]",
                                    "4": "[repo].[IndexColumn_ReferencedReferencing_HasFullColumnsInReferencing]->[repo].[RepoObjectColumn_reference_union]->[repo].[RepoObjectColumn_reference_SqlModules]->[repo].[RepoObject_SqlModules_79_reference_union]->[repo].[RepoObject_SqlModules_71_reference_ExpliciteTableAlias]->[repo].[RepoObject_SqlModules_44_from_Identifier_QuoteName]->[repo].[RepoObject_SqlModules_43_from_Identifier]->[repo].[RepoObject_SqlModules_42_from_Identifier]->[repo].[RepoObject_SqlModules_41_from_T]",
                                    "5": "ac7ed154-6b62-eb11-84dc-a81e8446d5b0",
                                    "6": "4d4cb4d0-4762-eb11-84dc-a81e8446d5b0",
                                    "7": "usp_PERSIST_IndexColumn_ReferencedReferencing_HasFullColumnsInReferencing_T",
                                    "8": "usp_PERSIST_RepoObject_SqlModules_41_from_T"
                                }
                            ]
                        },
                        "text/html": "<table><tr><th>FirstNode</th><th>FirstNodeName</th><th>LastNode</th><th>LastNodeName</th><th>ListNodeName</th><th>usp_persistence_RepoObject_guid</th><th>usp_persistence_RepoObject_guid</th><th>usp_persistence_name</th><th>usp_persistence_name</th></tr><tr><td>ab7ed154-6b62-eb11-84dc-a81e8446d5b0</td><td>[repo].[IndexColumn_ReferencedReferencing_HasFullColumnsInReferencing_T]</td><td>86efc212-b764-eb11-84dd-a81e8446d5b0</td><td>[repo].[RepoObject_SqlModules_61_SelectIdentifier_Union_T]</td><td>[repo].[IndexColumn_ReferencedReferencing_HasFullColumnsInReferencing]-&gt;[repo].[RepoObjectColumn_reference_union]-&gt;[repo].[RepoObjectColumn_reference_SqlModules]-&gt;[repo].[RepoObject_SqlModules_79_reference_union]-&gt;[repo].[RepoObject_SqlModules_71_reference_ExpliciteTableAlias]-&gt;[repo].[RepoObject_SqlModules_61_SelectIdentifier_Union_T]</td><td>ac7ed154-6b62-eb11-84dc-a81e8446d5b0</td><td>87efc212-b764-eb11-84dd-a81e8446d5b0</td><td>usp_PERSIST_IndexColumn_ReferencedReferencing_HasFullColumnsInReferencing_T</td><td>usp_PERSIST_RepoObject_SqlModules_61_SelectIdentifier_Union_T</td></tr><tr><td>ab7ed154-6b62-eb11-84dc-a81e8446d5b0</td><td>[repo].[IndexColumn_ReferencedReferencing_HasFullColumnsInReferencing_T]</td><td>4e4cb4d0-4762-eb11-84dc-a81e8446d5b0</td><td>[repo].[RepoObject_SqlModules_41_from_T]</td><td>[repo].[IndexColumn_ReferencedReferencing_HasFullColumnsInReferencing]-&gt;[repo].[RepoObjectColumn_reference_union]-&gt;[repo].[RepoObjectColumn_reference_SqlModules]-&gt;[repo].[RepoObject_SqlModules_79_reference_union]-&gt;[repo].[RepoObject_SqlModules_71_reference_ExpliciteTableAlias]-&gt;[repo].[RepoObject_SqlModules_44_from_Identifier_QuoteName]-&gt;[repo].[RepoObject_SqlModules_43_from_Identifier]-&gt;[repo].[RepoObject_SqlModules_42_from_Identifier]-&gt;[repo].[RepoObject_SqlModules_41_from_T]</td><td>ac7ed154-6b62-eb11-84dc-a81e8446d5b0</td><td>4d4cb4d0-4762-eb11-84dc-a81e8446d5b0</td><td>usp_PERSIST_IndexColumn_ReferencedReferencing_HasFullColumnsInReferencing_T</td><td>usp_PERSIST_RepoObject_SqlModules_41_from_T</td></tr></table>"
                    },
                    "metadata": {
                        "resultSet": {
                            "id": 0,
                            "batchId": 0,
                            "rowCount": 2,
                            "complete": true,
                            "columnInfo": [
                                {
                                    "isBytes": false,
                                    "isChars": false,
                                    "isSqlVariant": false,
                                    "isUdt": false,
                                    "isXml": false,
                                    "isJson": false,
                                    "sqlDbType": 14,
                                    "isHierarchyId": false,
                                    "isSqlXmlType": false,
                                    "isUnknownType": false,
                                    "isUpdatable": true,
                                    "allowDBNull": true,
                                    "baseCatalogName": null,
                                    "baseColumnName": null,
                                    "baseSchemaName": null,
                                    "baseServerName": null,
                                    "baseTableName": null,
                                    "columnName": "FirstNode",
                                    "columnOrdinal": 0,
                                    "columnSize": 16,
                                    "isAliased": null,
                                    "isAutoIncrement": false,
                                    "isExpression": null,
                                    "isHidden": null,
                                    "isIdentity": false,
                                    "isKey": null,
                                    "isLong": false,
                                    "isReadOnly": false,
                                    "isUnique": false,
                                    "numericPrecision": 255,
                                    "numericScale": 255,
                                    "udtAssemblyQualifiedName": null,
                                    "dataType": "System.Guid, System.Private.CoreLib, Version=4.0.0.0, Culture=neutral, PublicKeyToken=7cec85d7bea7798e",
                                    "dataTypeName": "uniqueidentifier"
                                },
                                {
                                    "isBytes": false,
                                    "isChars": true,
                                    "isSqlVariant": false,
                                    "isUdt": false,
                                    "isXml": false,
                                    "isJson": false,
                                    "sqlDbType": 12,
                                    "isHierarchyId": false,
                                    "isSqlXmlType": false,
                                    "isUnknownType": false,
                                    "isUpdatable": true,
                                    "allowDBNull": true,
                                    "baseCatalogName": null,
                                    "baseColumnName": null,
                                    "baseSchemaName": null,
                                    "baseServerName": null,
                                    "baseTableName": null,
                                    "columnName": "FirstNodeName",
                                    "columnOrdinal": 1,
                                    "columnSize": 261,
                                    "isAliased": null,
                                    "isAutoIncrement": false,
                                    "isExpression": null,
                                    "isHidden": null,
                                    "isIdentity": false,
                                    "isKey": null,
                                    "isLong": false,
                                    "isReadOnly": false,
                                    "isUnique": false,
                                    "numericPrecision": 255,
                                    "numericScale": 255,
                                    "udtAssemblyQualifiedName": null,
                                    "dataType": "System.String, System.Private.CoreLib, Version=4.0.0.0, Culture=neutral, PublicKeyToken=7cec85d7bea7798e",
                                    "dataTypeName": "nvarchar"
                                },
                                {
                                    "isBytes": false,
                                    "isChars": false,
                                    "isSqlVariant": false,
                                    "isUdt": false,
                                    "isXml": false,
                                    "isJson": false,
                                    "sqlDbType": 14,
                                    "isHierarchyId": false,
                                    "isSqlXmlType": false,
                                    "isUnknownType": false,
                                    "isUpdatable": true,
                                    "allowDBNull": true,
                                    "baseCatalogName": null,
                                    "baseColumnName": null,
                                    "baseSchemaName": null,
                                    "baseServerName": null,
                                    "baseTableName": null,
                                    "columnName": "LastNode",
                                    "columnOrdinal": 2,
                                    "columnSize": 16,
                                    "isAliased": null,
                                    "isAutoIncrement": false,
                                    "isExpression": null,
                                    "isHidden": null,
                                    "isIdentity": false,
                                    "isKey": null,
                                    "isLong": false,
                                    "isReadOnly": false,
                                    "isUnique": false,
                                    "numericPrecision": 255,
                                    "numericScale": 255,
                                    "udtAssemblyQualifiedName": null,
                                    "dataType": "System.Guid, System.Private.CoreLib, Version=4.0.0.0, Culture=neutral, PublicKeyToken=7cec85d7bea7798e",
                                    "dataTypeName": "uniqueidentifier"
                                },
                                {
                                    "isBytes": false,
                                    "isChars": true,
                                    "isSqlVariant": false,
                                    "isUdt": false,
                                    "isXml": false,
                                    "isJson": false,
                                    "sqlDbType": 12,
                                    "isHierarchyId": false,
                                    "isSqlXmlType": false,
                                    "isUnknownType": false,
                                    "isUpdatable": true,
                                    "allowDBNull": true,
                                    "baseCatalogName": null,
                                    "baseColumnName": null,
                                    "baseSchemaName": null,
                                    "baseServerName": null,
                                    "baseTableName": null,
                                    "columnName": "LastNodeName",
                                    "columnOrdinal": 3,
                                    "columnSize": 261,
                                    "isAliased": null,
                                    "isAutoIncrement": false,
                                    "isExpression": null,
                                    "isHidden": null,
                                    "isIdentity": false,
                                    "isKey": null,
                                    "isLong": false,
                                    "isReadOnly": false,
                                    "isUnique": false,
                                    "numericPrecision": 255,
                                    "numericScale": 255,
                                    "udtAssemblyQualifiedName": null,
                                    "dataType": "System.String, System.Private.CoreLib, Version=4.0.0.0, Culture=neutral, PublicKeyToken=7cec85d7bea7798e",
                                    "dataTypeName": "nvarchar"
                                },
                                {
                                    "isBytes": false,
                                    "isChars": true,
                                    "isSqlVariant": false,
                                    "isUdt": false,
                                    "isXml": false,
                                    "isJson": false,
                                    "sqlDbType": 12,
                                    "isHierarchyId": false,
                                    "isSqlXmlType": false,
                                    "isUnknownType": false,
                                    "isUpdatable": false,
                                    "allowDBNull": true,
                                    "baseCatalogName": null,
                                    "baseColumnName": null,
                                    "baseSchemaName": null,
                                    "baseServerName": null,
                                    "baseTableName": null,
                                    "columnName": "ListNodeName",
                                    "columnOrdinal": 4,
                                    "columnSize": 4000,
                                    "isAliased": null,
                                    "isAutoIncrement": false,
                                    "isExpression": null,
                                    "isHidden": null,
                                    "isIdentity": false,
                                    "isKey": null,
                                    "isLong": false,
                                    "isReadOnly": true,
                                    "isUnique": false,
                                    "numericPrecision": 255,
                                    "numericScale": 255,
                                    "udtAssemblyQualifiedName": null,
                                    "dataType": "System.String, System.Private.CoreLib, Version=4.0.0.0, Culture=neutral, PublicKeyToken=7cec85d7bea7798e",
                                    "dataTypeName": "nvarchar"
                                },
                                {
                                    "isBytes": false,
                                    "isChars": false,
                                    "isSqlVariant": false,
                                    "isUdt": false,
                                    "isXml": false,
                                    "isJson": false,
                                    "sqlDbType": 14,
                                    "isHierarchyId": false,
                                    "isSqlXmlType": false,
                                    "isUnknownType": false,
                                    "isUpdatable": true,
                                    "allowDBNull": true,
                                    "baseCatalogName": null,
                                    "baseColumnName": null,
                                    "baseSchemaName": null,
                                    "baseServerName": null,
                                    "baseTableName": null,
                                    "columnName": "usp_persistence_RepoObject_guid",
                                    "columnOrdinal": 5,
                                    "columnSize": 16,
                                    "isAliased": null,
                                    "isAutoIncrement": false,
                                    "isExpression": null,
                                    "isHidden": null,
                                    "isIdentity": false,
                                    "isKey": null,
                                    "isLong": false,
                                    "isReadOnly": false,
                                    "isUnique": false,
                                    "numericPrecision": 255,
                                    "numericScale": 255,
                                    "udtAssemblyQualifiedName": null,
                                    "dataType": "System.Guid, System.Private.CoreLib, Version=4.0.0.0, Culture=neutral, PublicKeyToken=7cec85d7bea7798e",
                                    "dataTypeName": "uniqueidentifier"
                                },
                                {
                                    "isBytes": false,
                                    "isChars": false,
                                    "isSqlVariant": false,
                                    "isUdt": false,
                                    "isXml": false,
                                    "isJson": false,
                                    "sqlDbType": 14,
                                    "isHierarchyId": false,
                                    "isSqlXmlType": false,
                                    "isUnknownType": false,
                                    "isUpdatable": true,
                                    "allowDBNull": true,
                                    "baseCatalogName": null,
                                    "baseColumnName": null,
                                    "baseSchemaName": null,
                                    "baseServerName": null,
                                    "baseTableName": null,
                                    "columnName": "usp_persistence_RepoObject_guid",
                                    "columnOrdinal": 6,
                                    "columnSize": 16,
                                    "isAliased": null,
                                    "isAutoIncrement": false,
                                    "isExpression": null,
                                    "isHidden": null,
                                    "isIdentity": false,
                                    "isKey": null,
                                    "isLong": false,
                                    "isReadOnly": false,
                                    "isUnique": false,
                                    "numericPrecision": 255,
                                    "numericScale": 255,
                                    "udtAssemblyQualifiedName": null,
                                    "dataType": "System.Guid, System.Private.CoreLib, Version=4.0.0.0, Culture=neutral, PublicKeyToken=7cec85d7bea7798e",
                                    "dataTypeName": "uniqueidentifier"
                                },
                                {
                                    "isBytes": false,
                                    "isChars": true,
                                    "isSqlVariant": false,
                                    "isUdt": false,
                                    "isXml": false,
                                    "isJson": false,
                                    "sqlDbType": 12,
                                    "isHierarchyId": false,
                                    "isSqlXmlType": false,
                                    "isUnknownType": false,
                                    "isUpdatable": false,
                                    "allowDBNull": true,
                                    "baseCatalogName": null,
                                    "baseColumnName": null,
                                    "baseSchemaName": null,
                                    "baseServerName": null,
                                    "baseTableName": null,
                                    "columnName": "usp_persistence_name",
                                    "columnOrdinal": 7,
                                    "columnSize": 140,
                                    "isAliased": null,
                                    "isAutoIncrement": false,
                                    "isExpression": null,
                                    "isHidden": null,
                                    "isIdentity": false,
                                    "isKey": null,
                                    "isLong": false,
                                    "isReadOnly": true,
                                    "isUnique": false,
                                    "numericPrecision": 255,
                                    "numericScale": 255,
                                    "udtAssemblyQualifiedName": null,
                                    "dataType": "System.String, System.Private.CoreLib, Version=4.0.0.0, Culture=neutral, PublicKeyToken=7cec85d7bea7798e",
                                    "dataTypeName": "nvarchar"
                                },
                                {
                                    "isBytes": false,
                                    "isChars": true,
                                    "isSqlVariant": false,
                                    "isUdt": false,
                                    "isXml": false,
                                    "isJson": false,
                                    "sqlDbType": 12,
                                    "isHierarchyId": false,
                                    "isSqlXmlType": false,
                                    "isUnknownType": false,
                                    "isUpdatable": false,
                                    "allowDBNull": true,
                                    "baseCatalogName": null,
                                    "baseColumnName": null,
                                    "baseSchemaName": null,
                                    "baseServerName": null,
                                    "baseTableName": null,
                                    "columnName": "usp_persistence_name",
                                    "columnOrdinal": 8,
                                    "columnSize": 140,
                                    "isAliased": null,
                                    "isAutoIncrement": false,
                                    "isExpression": null,
                                    "isHidden": null,
                                    "isIdentity": false,
                                    "isKey": null,
                                    "isLong": false,
                                    "isReadOnly": true,
                                    "isUnique": false,
                                    "numericPrecision": 255,
                                    "numericScale": 255,
                                    "udtAssemblyQualifiedName": null,
                                    "dataType": "System.String, System.Private.CoreLib, Version=4.0.0.0, Culture=neutral, PublicKeyToken=7cec85d7bea7798e",
                                    "dataTypeName": "nvarchar"
                                }
                            ],
                            "specialAction": {
                                "none": true,
                                "expectYukonXMLShowPlan": false
                            }
                        }
                    }
                }
            ],
            "execution_count": 2
        }
    ]
}